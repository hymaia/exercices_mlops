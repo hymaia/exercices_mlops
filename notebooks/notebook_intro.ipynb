{
 "cells": [
  {
   "cell_type": "code",
   "execution_count": 89,
   "id": "d9228ac4-e4d7-4896-a937-621bba138f94",
   "metadata": {},
   "outputs": [
    {
     "name": "stdout",
     "output_type": "stream",
     "text": [
      "The autoreload extension is already loaded. To reload it, use:\n",
      "  %reload_ext autoreload\n"
     ]
    }
   ],
   "source": [
    "import pandas as pd\n",
    "import sys\n",
    "import warnings\n",
    "import numpy as np\n",
    "\n",
    "# used to use python functions in src modules\n",
    "%load_ext autoreload\n",
    "%autoreload 2\n",
    "sys.path.append(\"..\")\n",
    "\n",
    "# pandas display options\n",
    "pd.set_option('display.max_rows', 500)\n",
    "pd.set_option('display.max_columns', 500)\n",
    "pd.set_option('display.width', 1000)\n",
    "warnings.filterwarnings(\"ignore\")\n",
    "\n",
    "# Viz\n",
    "import plotly.express as px\n",
    "import plotly.graph_objs as go\n",
    "import plotly.figure_factory as ff\n"
   ]
  },
  {
   "cell_type": "markdown",
   "id": "59475626",
   "metadata": {},
   "source": [
    "# PARTIE 1 : Collecte des données\n",
    "\n",
    "Pour les exercices, le cas d'usage contient des données historiques de ventes de 45 magasins Walmart aux US. Chaque magasin comprend un certain nombre de rayons et vous devez prédire les ventes de chaque rayon pour chaque magasin.\n",
    "\n",
    "En outre, Walmart organise plusieurs opérations promotionnelles de démarque tout au long de l'année. Ces démarques précèdent des fêtes importantes, dont les quatre plus importantes sont le Super Bowl, la fête du travail, Thanksgiving et Noël.\n",
    "\n",
    "### **fichier train.csv**\n",
    "\n",
    "Il s'agit des données historiques sur la période du 2010-02-05 au 2012-11-01. Ce fichier contient les champs suivants :\n",
    "\n",
    "**Store** - le numéro du magasin<br/>\n",
    "**Dept** - le numéro du département<br/>\n",
    "**Date** - la semaine<br/>\n",
    "**Weekly_Sales** (label) - ventes hebdomadaires pour le rayon donné dans le magasin donné<br/>\n",
    "**IsHoliday** - si la semaine est une semaine de vacances spéciales<br/>\n",
    "\n",
    "### **fichier test.csv**\n",
    "\n",
    "Le jeu de test. Vous devez prédire les ventes (Weekly_Sales) pour chaque triplet de magasin, rayon et date dans ce fichier.\n",
    "\n",
    "### **fichier stores.csv**\n",
    "\n",
    "Ce fichier contient des informations anonymes sur les 45 magasins, indiquant le type et la taille du magasin.\n",
    "\n",
    "### **fichier features.csv**\n",
    "\n",
    "Contient des données supplémentaires relatives au magasin, au rayon et à l'activité régionale pour les dates données :\n",
    "\n",
    "**Store** - le numéro du magasin<br/>\n",
    "**Date** - la semaine<br/>\n",
    "**Température** - température moyenne dans la région<br/>\n",
    "**Fuel_Price** - coût du carburant dans la région<br/>\n",
    "**MarkDown1-5** - données anonymes relatives aux démarques promotionnelles effectuées par Walmart. Les données MarkDown ne sont disponibles qu'après novembre 2011, et ne sont pas disponibles pour tous les magasins en permanence. Toute valeur manquante est indiquée par NA.<br/>\n",
    "**IPC** - l'indice des prix à la consommation<br/>\n",
    "**Unemployment** - le taux de chômage<br/>\n",
    "**IsHoliday** - indique s'il s'agit d'une semaine de vacances spéciales.<br/>\n",
    "\n",
    "Par commodité, les quatre jours fériés tombent dans les semaines suivantes de l'ensemble de données (tous les jours fériés ne figurent pas dans les données) :\n",
    "\n",
    "**Super Bowl** : 12-fév-10, 11-fév-11, 10-fév-12, 8-fév-13<br/>\n",
    "**Fête du travail** : 10-sept-10, 9-sept-11, 7-sept-12, 6-sept-13<br/>\n",
    "**Thanksgiving** : 26-Nov-10, 25-Nov-11, 23-Nov-12, 29-Nov-13<br/>\n",
    "**Noël** : 31-déc-10, 30-déc-11, 28-déc-12, 27-déc-13\n"
   ]
  },
  {
   "cell_type": "code",
   "execution_count": 67,
   "id": "c71fa67d",
   "metadata": {},
   "outputs": [
    {
     "name": "stdout",
     "output_type": "stream",
     "text": [
      "nombre de lignes dans le train :  421570\n",
      "nombre de lignes dans le test :  115064\n"
     ]
    }
   ],
   "source": [
    "\n",
    "df_train = pd.read_csv(\"../data/raw/train.csv\")\n",
    "df_test = pd.read_csv(\"../data/raw/test.csv\")\n",
    "df_features = pd.read_csv(\"../data/raw/features.csv\")\n",
    "df_stores = pd.read_csv(\"../data/raw/stores.csv\")\n",
    "\n",
    "print(\"nombre de lignes dans le train : \", df_train.shape[0])\n",
    "print(\"nombre de lignes dans le test : \", df_test.shape[0])\n"
   ]
  },
  {
   "cell_type": "code",
   "execution_count": 68,
   "id": "892a0b2c",
   "metadata": {},
   "outputs": [
    {
     "data": {
      "text/html": [
       "<div>\n",
       "<style scoped>\n",
       "    .dataframe tbody tr th:only-of-type {\n",
       "        vertical-align: middle;\n",
       "    }\n",
       "\n",
       "    .dataframe tbody tr th {\n",
       "        vertical-align: top;\n",
       "    }\n",
       "\n",
       "    .dataframe thead th {\n",
       "        text-align: right;\n",
       "    }\n",
       "</style>\n",
       "<table border=\"1\" class=\"dataframe\">\n",
       "  <thead>\n",
       "    <tr style=\"text-align: right;\">\n",
       "      <th></th>\n",
       "      <th>Store</th>\n",
       "      <th>Dept</th>\n",
       "      <th>Date</th>\n",
       "      <th>Weekly_Sales</th>\n",
       "      <th>IsHoliday</th>\n",
       "    </tr>\n",
       "  </thead>\n",
       "  <tbody>\n",
       "    <tr>\n",
       "      <th>0</th>\n",
       "      <td>1</td>\n",
       "      <td>1</td>\n",
       "      <td>2010-02-05</td>\n",
       "      <td>24924.50</td>\n",
       "      <td>False</td>\n",
       "    </tr>\n",
       "    <tr>\n",
       "      <th>1</th>\n",
       "      <td>1</td>\n",
       "      <td>1</td>\n",
       "      <td>2010-02-12</td>\n",
       "      <td>46039.49</td>\n",
       "      <td>True</td>\n",
       "    </tr>\n",
       "    <tr>\n",
       "      <th>2</th>\n",
       "      <td>1</td>\n",
       "      <td>1</td>\n",
       "      <td>2010-02-19</td>\n",
       "      <td>41595.55</td>\n",
       "      <td>False</td>\n",
       "    </tr>\n",
       "    <tr>\n",
       "      <th>3</th>\n",
       "      <td>1</td>\n",
       "      <td>1</td>\n",
       "      <td>2010-02-26</td>\n",
       "      <td>19403.54</td>\n",
       "      <td>False</td>\n",
       "    </tr>\n",
       "    <tr>\n",
       "      <th>4</th>\n",
       "      <td>1</td>\n",
       "      <td>1</td>\n",
       "      <td>2010-03-05</td>\n",
       "      <td>21827.90</td>\n",
       "      <td>False</td>\n",
       "    </tr>\n",
       "  </tbody>\n",
       "</table>\n",
       "</div>"
      ],
      "text/plain": [
       "   Store  Dept        Date  Weekly_Sales  IsHoliday\n",
       "0      1     1  2010-02-05      24924.50      False\n",
       "1      1     1  2010-02-12      46039.49       True\n",
       "2      1     1  2010-02-19      41595.55      False\n",
       "3      1     1  2010-02-26      19403.54      False\n",
       "4      1     1  2010-03-05      21827.90      False"
      ]
     },
     "execution_count": 68,
     "metadata": {},
     "output_type": "execute_result"
    }
   ],
   "source": [
    "df_train.head(5)"
   ]
  },
  {
   "cell_type": "code",
   "execution_count": 69,
   "id": "e09bfcee",
   "metadata": {},
   "outputs": [
    {
     "data": {
      "text/html": [
       "<div>\n",
       "<style scoped>\n",
       "    .dataframe tbody tr th:only-of-type {\n",
       "        vertical-align: middle;\n",
       "    }\n",
       "\n",
       "    .dataframe tbody tr th {\n",
       "        vertical-align: top;\n",
       "    }\n",
       "\n",
       "    .dataframe thead th {\n",
       "        text-align: right;\n",
       "    }\n",
       "</style>\n",
       "<table border=\"1\" class=\"dataframe\">\n",
       "  <thead>\n",
       "    <tr style=\"text-align: right;\">\n",
       "      <th></th>\n",
       "      <th>Store</th>\n",
       "      <th>Date</th>\n",
       "      <th>Temperature</th>\n",
       "      <th>Fuel_Price</th>\n",
       "      <th>MarkDown1</th>\n",
       "      <th>MarkDown2</th>\n",
       "      <th>MarkDown3</th>\n",
       "      <th>MarkDown4</th>\n",
       "      <th>MarkDown5</th>\n",
       "      <th>CPI</th>\n",
       "      <th>Unemployment</th>\n",
       "      <th>IsHoliday</th>\n",
       "    </tr>\n",
       "  </thead>\n",
       "  <tbody>\n",
       "    <tr>\n",
       "      <th>0</th>\n",
       "      <td>1</td>\n",
       "      <td>2010-02-05</td>\n",
       "      <td>42.31</td>\n",
       "      <td>2.572</td>\n",
       "      <td>NaN</td>\n",
       "      <td>NaN</td>\n",
       "      <td>NaN</td>\n",
       "      <td>NaN</td>\n",
       "      <td>NaN</td>\n",
       "      <td>211.096358</td>\n",
       "      <td>8.106</td>\n",
       "      <td>False</td>\n",
       "    </tr>\n",
       "    <tr>\n",
       "      <th>1</th>\n",
       "      <td>1</td>\n",
       "      <td>2010-02-12</td>\n",
       "      <td>38.51</td>\n",
       "      <td>2.548</td>\n",
       "      <td>NaN</td>\n",
       "      <td>NaN</td>\n",
       "      <td>NaN</td>\n",
       "      <td>NaN</td>\n",
       "      <td>NaN</td>\n",
       "      <td>211.242170</td>\n",
       "      <td>8.106</td>\n",
       "      <td>True</td>\n",
       "    </tr>\n",
       "    <tr>\n",
       "      <th>2</th>\n",
       "      <td>1</td>\n",
       "      <td>2010-02-19</td>\n",
       "      <td>39.93</td>\n",
       "      <td>2.514</td>\n",
       "      <td>NaN</td>\n",
       "      <td>NaN</td>\n",
       "      <td>NaN</td>\n",
       "      <td>NaN</td>\n",
       "      <td>NaN</td>\n",
       "      <td>211.289143</td>\n",
       "      <td>8.106</td>\n",
       "      <td>False</td>\n",
       "    </tr>\n",
       "    <tr>\n",
       "      <th>3</th>\n",
       "      <td>1</td>\n",
       "      <td>2010-02-26</td>\n",
       "      <td>46.63</td>\n",
       "      <td>2.561</td>\n",
       "      <td>NaN</td>\n",
       "      <td>NaN</td>\n",
       "      <td>NaN</td>\n",
       "      <td>NaN</td>\n",
       "      <td>NaN</td>\n",
       "      <td>211.319643</td>\n",
       "      <td>8.106</td>\n",
       "      <td>False</td>\n",
       "    </tr>\n",
       "    <tr>\n",
       "      <th>4</th>\n",
       "      <td>1</td>\n",
       "      <td>2010-03-05</td>\n",
       "      <td>46.50</td>\n",
       "      <td>2.625</td>\n",
       "      <td>NaN</td>\n",
       "      <td>NaN</td>\n",
       "      <td>NaN</td>\n",
       "      <td>NaN</td>\n",
       "      <td>NaN</td>\n",
       "      <td>211.350143</td>\n",
       "      <td>8.106</td>\n",
       "      <td>False</td>\n",
       "    </tr>\n",
       "  </tbody>\n",
       "</table>\n",
       "</div>"
      ],
      "text/plain": [
       "   Store        Date  Temperature  Fuel_Price  MarkDown1  MarkDown2  MarkDown3  MarkDown4  MarkDown5         CPI  Unemployment  IsHoliday\n",
       "0      1  2010-02-05        42.31       2.572        NaN        NaN        NaN        NaN        NaN  211.096358         8.106      False\n",
       "1      1  2010-02-12        38.51       2.548        NaN        NaN        NaN        NaN        NaN  211.242170         8.106       True\n",
       "2      1  2010-02-19        39.93       2.514        NaN        NaN        NaN        NaN        NaN  211.289143         8.106      False\n",
       "3      1  2010-02-26        46.63       2.561        NaN        NaN        NaN        NaN        NaN  211.319643         8.106      False\n",
       "4      1  2010-03-05        46.50       2.625        NaN        NaN        NaN        NaN        NaN  211.350143         8.106      False"
      ]
     },
     "execution_count": 69,
     "metadata": {},
     "output_type": "execute_result"
    }
   ],
   "source": [
    "df_features.head(5)"
   ]
  },
  {
   "cell_type": "code",
   "execution_count": 70,
   "id": "c08231d9",
   "metadata": {},
   "outputs": [
    {
     "data": {
      "text/html": [
       "<div>\n",
       "<style scoped>\n",
       "    .dataframe tbody tr th:only-of-type {\n",
       "        vertical-align: middle;\n",
       "    }\n",
       "\n",
       "    .dataframe tbody tr th {\n",
       "        vertical-align: top;\n",
       "    }\n",
       "\n",
       "    .dataframe thead th {\n",
       "        text-align: right;\n",
       "    }\n",
       "</style>\n",
       "<table border=\"1\" class=\"dataframe\">\n",
       "  <thead>\n",
       "    <tr style=\"text-align: right;\">\n",
       "      <th></th>\n",
       "      <th>Store</th>\n",
       "      <th>Type</th>\n",
       "      <th>Size</th>\n",
       "    </tr>\n",
       "  </thead>\n",
       "  <tbody>\n",
       "    <tr>\n",
       "      <th>0</th>\n",
       "      <td>1</td>\n",
       "      <td>A</td>\n",
       "      <td>151315</td>\n",
       "    </tr>\n",
       "    <tr>\n",
       "      <th>1</th>\n",
       "      <td>2</td>\n",
       "      <td>A</td>\n",
       "      <td>202307</td>\n",
       "    </tr>\n",
       "    <tr>\n",
       "      <th>2</th>\n",
       "      <td>3</td>\n",
       "      <td>B</td>\n",
       "      <td>37392</td>\n",
       "    </tr>\n",
       "    <tr>\n",
       "      <th>3</th>\n",
       "      <td>4</td>\n",
       "      <td>A</td>\n",
       "      <td>205863</td>\n",
       "    </tr>\n",
       "    <tr>\n",
       "      <th>4</th>\n",
       "      <td>5</td>\n",
       "      <td>B</td>\n",
       "      <td>34875</td>\n",
       "    </tr>\n",
       "  </tbody>\n",
       "</table>\n",
       "</div>"
      ],
      "text/plain": [
       "   Store Type    Size\n",
       "0      1    A  151315\n",
       "1      2    A  202307\n",
       "2      3    B   37392\n",
       "3      4    A  205863\n",
       "4      5    B   34875"
      ]
     },
     "execution_count": 70,
     "metadata": {},
     "output_type": "execute_result"
    }
   ],
   "source": [
    "df_stores.head(5)"
   ]
  },
  {
   "cell_type": "code",
   "execution_count": 71,
   "id": "f7b5c722",
   "metadata": {},
   "outputs": [
    {
     "data": {
      "text/html": [
       "<div>\n",
       "<style scoped>\n",
       "    .dataframe tbody tr th:only-of-type {\n",
       "        vertical-align: middle;\n",
       "    }\n",
       "\n",
       "    .dataframe tbody tr th {\n",
       "        vertical-align: top;\n",
       "    }\n",
       "\n",
       "    .dataframe thead th {\n",
       "        text-align: right;\n",
       "    }\n",
       "</style>\n",
       "<table border=\"1\" class=\"dataframe\">\n",
       "  <thead>\n",
       "    <tr style=\"text-align: right;\">\n",
       "      <th></th>\n",
       "      <th>Store</th>\n",
       "      <th>Dept</th>\n",
       "      <th>Date</th>\n",
       "      <th>Weekly_Sales</th>\n",
       "      <th>IsHoliday</th>\n",
       "      <th>Temperature</th>\n",
       "      <th>Fuel_Price</th>\n",
       "      <th>MarkDown1</th>\n",
       "      <th>MarkDown2</th>\n",
       "      <th>MarkDown3</th>\n",
       "      <th>MarkDown4</th>\n",
       "      <th>MarkDown5</th>\n",
       "      <th>CPI</th>\n",
       "      <th>Unemployment</th>\n",
       "      <th>Type</th>\n",
       "      <th>Size</th>\n",
       "    </tr>\n",
       "  </thead>\n",
       "  <tbody>\n",
       "    <tr>\n",
       "      <th>0</th>\n",
       "      <td>1</td>\n",
       "      <td>1</td>\n",
       "      <td>2010-02-05</td>\n",
       "      <td>24924.50</td>\n",
       "      <td>False</td>\n",
       "      <td>42.31</td>\n",
       "      <td>2.572</td>\n",
       "      <td>NaN</td>\n",
       "      <td>NaN</td>\n",
       "      <td>NaN</td>\n",
       "      <td>NaN</td>\n",
       "      <td>NaN</td>\n",
       "      <td>211.096358</td>\n",
       "      <td>8.106</td>\n",
       "      <td>A</td>\n",
       "      <td>151315</td>\n",
       "    </tr>\n",
       "    <tr>\n",
       "      <th>1</th>\n",
       "      <td>1</td>\n",
       "      <td>2</td>\n",
       "      <td>2010-02-05</td>\n",
       "      <td>50605.27</td>\n",
       "      <td>False</td>\n",
       "      <td>42.31</td>\n",
       "      <td>2.572</td>\n",
       "      <td>NaN</td>\n",
       "      <td>NaN</td>\n",
       "      <td>NaN</td>\n",
       "      <td>NaN</td>\n",
       "      <td>NaN</td>\n",
       "      <td>211.096358</td>\n",
       "      <td>8.106</td>\n",
       "      <td>A</td>\n",
       "      <td>151315</td>\n",
       "    </tr>\n",
       "    <tr>\n",
       "      <th>2</th>\n",
       "      <td>1</td>\n",
       "      <td>3</td>\n",
       "      <td>2010-02-05</td>\n",
       "      <td>13740.12</td>\n",
       "      <td>False</td>\n",
       "      <td>42.31</td>\n",
       "      <td>2.572</td>\n",
       "      <td>NaN</td>\n",
       "      <td>NaN</td>\n",
       "      <td>NaN</td>\n",
       "      <td>NaN</td>\n",
       "      <td>NaN</td>\n",
       "      <td>211.096358</td>\n",
       "      <td>8.106</td>\n",
       "      <td>A</td>\n",
       "      <td>151315</td>\n",
       "    </tr>\n",
       "    <tr>\n",
       "      <th>3</th>\n",
       "      <td>1</td>\n",
       "      <td>4</td>\n",
       "      <td>2010-02-05</td>\n",
       "      <td>39954.04</td>\n",
       "      <td>False</td>\n",
       "      <td>42.31</td>\n",
       "      <td>2.572</td>\n",
       "      <td>NaN</td>\n",
       "      <td>NaN</td>\n",
       "      <td>NaN</td>\n",
       "      <td>NaN</td>\n",
       "      <td>NaN</td>\n",
       "      <td>211.096358</td>\n",
       "      <td>8.106</td>\n",
       "      <td>A</td>\n",
       "      <td>151315</td>\n",
       "    </tr>\n",
       "    <tr>\n",
       "      <th>4</th>\n",
       "      <td>1</td>\n",
       "      <td>5</td>\n",
       "      <td>2010-02-05</td>\n",
       "      <td>32229.38</td>\n",
       "      <td>False</td>\n",
       "      <td>42.31</td>\n",
       "      <td>2.572</td>\n",
       "      <td>NaN</td>\n",
       "      <td>NaN</td>\n",
       "      <td>NaN</td>\n",
       "      <td>NaN</td>\n",
       "      <td>NaN</td>\n",
       "      <td>211.096358</td>\n",
       "      <td>8.106</td>\n",
       "      <td>A</td>\n",
       "      <td>151315</td>\n",
       "    </tr>\n",
       "    <tr>\n",
       "      <th>5</th>\n",
       "      <td>1</td>\n",
       "      <td>6</td>\n",
       "      <td>2010-02-05</td>\n",
       "      <td>5749.03</td>\n",
       "      <td>False</td>\n",
       "      <td>42.31</td>\n",
       "      <td>2.572</td>\n",
       "      <td>NaN</td>\n",
       "      <td>NaN</td>\n",
       "      <td>NaN</td>\n",
       "      <td>NaN</td>\n",
       "      <td>NaN</td>\n",
       "      <td>211.096358</td>\n",
       "      <td>8.106</td>\n",
       "      <td>A</td>\n",
       "      <td>151315</td>\n",
       "    </tr>\n",
       "    <tr>\n",
       "      <th>6</th>\n",
       "      <td>1</td>\n",
       "      <td>7</td>\n",
       "      <td>2010-02-05</td>\n",
       "      <td>21084.08</td>\n",
       "      <td>False</td>\n",
       "      <td>42.31</td>\n",
       "      <td>2.572</td>\n",
       "      <td>NaN</td>\n",
       "      <td>NaN</td>\n",
       "      <td>NaN</td>\n",
       "      <td>NaN</td>\n",
       "      <td>NaN</td>\n",
       "      <td>211.096358</td>\n",
       "      <td>8.106</td>\n",
       "      <td>A</td>\n",
       "      <td>151315</td>\n",
       "    </tr>\n",
       "    <tr>\n",
       "      <th>7</th>\n",
       "      <td>1</td>\n",
       "      <td>8</td>\n",
       "      <td>2010-02-05</td>\n",
       "      <td>40129.01</td>\n",
       "      <td>False</td>\n",
       "      <td>42.31</td>\n",
       "      <td>2.572</td>\n",
       "      <td>NaN</td>\n",
       "      <td>NaN</td>\n",
       "      <td>NaN</td>\n",
       "      <td>NaN</td>\n",
       "      <td>NaN</td>\n",
       "      <td>211.096358</td>\n",
       "      <td>8.106</td>\n",
       "      <td>A</td>\n",
       "      <td>151315</td>\n",
       "    </tr>\n",
       "    <tr>\n",
       "      <th>8</th>\n",
       "      <td>1</td>\n",
       "      <td>9</td>\n",
       "      <td>2010-02-05</td>\n",
       "      <td>16930.99</td>\n",
       "      <td>False</td>\n",
       "      <td>42.31</td>\n",
       "      <td>2.572</td>\n",
       "      <td>NaN</td>\n",
       "      <td>NaN</td>\n",
       "      <td>NaN</td>\n",
       "      <td>NaN</td>\n",
       "      <td>NaN</td>\n",
       "      <td>211.096358</td>\n",
       "      <td>8.106</td>\n",
       "      <td>A</td>\n",
       "      <td>151315</td>\n",
       "    </tr>\n",
       "    <tr>\n",
       "      <th>9</th>\n",
       "      <td>1</td>\n",
       "      <td>10</td>\n",
       "      <td>2010-02-05</td>\n",
       "      <td>30721.50</td>\n",
       "      <td>False</td>\n",
       "      <td>42.31</td>\n",
       "      <td>2.572</td>\n",
       "      <td>NaN</td>\n",
       "      <td>NaN</td>\n",
       "      <td>NaN</td>\n",
       "      <td>NaN</td>\n",
       "      <td>NaN</td>\n",
       "      <td>211.096358</td>\n",
       "      <td>8.106</td>\n",
       "      <td>A</td>\n",
       "      <td>151315</td>\n",
       "    </tr>\n",
       "  </tbody>\n",
       "</table>\n",
       "</div>"
      ],
      "text/plain": [
       "   Store  Dept        Date  Weekly_Sales  IsHoliday  Temperature  Fuel_Price  MarkDown1  MarkDown2  MarkDown3  MarkDown4  MarkDown5         CPI  Unemployment Type    Size\n",
       "0      1     1  2010-02-05      24924.50      False        42.31       2.572        NaN        NaN        NaN        NaN        NaN  211.096358         8.106    A  151315\n",
       "1      1     2  2010-02-05      50605.27      False        42.31       2.572        NaN        NaN        NaN        NaN        NaN  211.096358         8.106    A  151315\n",
       "2      1     3  2010-02-05      13740.12      False        42.31       2.572        NaN        NaN        NaN        NaN        NaN  211.096358         8.106    A  151315\n",
       "3      1     4  2010-02-05      39954.04      False        42.31       2.572        NaN        NaN        NaN        NaN        NaN  211.096358         8.106    A  151315\n",
       "4      1     5  2010-02-05      32229.38      False        42.31       2.572        NaN        NaN        NaN        NaN        NaN  211.096358         8.106    A  151315\n",
       "5      1     6  2010-02-05       5749.03      False        42.31       2.572        NaN        NaN        NaN        NaN        NaN  211.096358         8.106    A  151315\n",
       "6      1     7  2010-02-05      21084.08      False        42.31       2.572        NaN        NaN        NaN        NaN        NaN  211.096358         8.106    A  151315\n",
       "7      1     8  2010-02-05      40129.01      False        42.31       2.572        NaN        NaN        NaN        NaN        NaN  211.096358         8.106    A  151315\n",
       "8      1     9  2010-02-05      16930.99      False        42.31       2.572        NaN        NaN        NaN        NaN        NaN  211.096358         8.106    A  151315\n",
       "9      1    10  2010-02-05      30721.50      False        42.31       2.572        NaN        NaN        NaN        NaN        NaN  211.096358         8.106    A  151315"
      ]
     },
     "execution_count": 71,
     "metadata": {},
     "output_type": "execute_result"
    }
   ],
   "source": [
    "df_train = df_train.merge(df_features, on=[\"Store\", \"Date\", \"IsHoliday\"])\n",
    "df_train = df_train.merge(df_stores, on=[\"Store\"])\n",
    "\n",
    "df_test = df_test.merge(df_features, on=[\"Store\", \"Date\", \"IsHoliday\"])\n",
    "df_test = df_test.merge(df_stores, on=[\"Store\"])\n",
    "\n",
    "df_train.head(10)"
   ]
  },
  {
   "cell_type": "markdown",
   "id": "195171aa",
   "metadata": {},
   "source": [
    "# PARTIE 2 : Exploration des données"
   ]
  },
  {
   "cell_type": "markdown",
   "id": "c0a604b7",
   "metadata": {},
   "source": [
    "### Description des données et des valeurs manquantes\n",
    "\n",
    "Les valeurs manquantes sont présentes unniquement dans les les colonnes Markdown."
   ]
  },
  {
   "cell_type": "code",
   "execution_count": 72,
   "id": "bd455197",
   "metadata": {},
   "outputs": [],
   "source": [
    "# Adding some basic datetime features\n",
    "df_train['Date'] = pd.to_datetime(df_train['Date'])\n",
    "df_train['Day'] = df_train['Date'].dt.day\n",
    "df_train['Week'] = df_train['Date'].dt.isocalendar().week.astype(int)\n",
    "df_train['Month'] = df_train['Date'].dt.month\n",
    "df_train['Year'] = df_train['Date'].dt.year\n",
    "df_train = df_train.drop(columns=['Date'])\n",
    "\n",
    "df_test['Date'] = pd.to_datetime(df_test['Date'])\n",
    "df_test['Day'] = df_test['Date'].dt.day\n",
    "df_test['Week'] = df_test['Date'].dt.isocalendar().week.astype(int)\n",
    "df_test['Month'] = df_test['Date'].dt.month\n",
    "df_test['Year'] = df_test['Date'].dt.year\n",
    "df_test = df_test.drop(columns=['Date'])"
   ]
  },
  {
   "cell_type": "code",
   "execution_count": 90,
   "id": "11db6901",
   "metadata": {},
   "outputs": [
    {
     "data": {
      "text/html": [
       "<style type=\"text/css\">\n",
       "#T_72c29_row0_col1, #T_72c29_row1_col1, #T_72c29_row3_col1, #T_72c29_row4_col1, #T_72c29_row11_col1, #T_72c29_row13_col1, #T_72c29_row14_col1, #T_72c29_row15_col1 {\n",
       "  width: 10em;\n",
       "  background: linear-gradient(90deg, #205ff2 0.0%, transparent 0.0%);\n",
       "}\n",
       "#T_72c29_row0_col2, #T_72c29_row0_col5, #T_72c29_row1_col2, #T_72c29_row1_col5, #T_72c29_row3_col2, #T_72c29_row3_col5, #T_72c29_row4_col2, #T_72c29_row4_col5, #T_72c29_row6_col5, #T_72c29_row7_col5, #T_72c29_row10_col2, #T_72c29_row10_col5, #T_72c29_row11_col2, #T_72c29_row11_col5, #T_72c29_row13_col2, #T_72c29_row13_col5, #T_72c29_row14_col2, #T_72c29_row14_col5, #T_72c29_row15_col2, #T_72c29_row15_col5, #T_72c29_row16_col2 {\n",
       "  background-color: #f7fcf0;\n",
       "  color: #000000;\n",
       "}\n",
       "#T_72c29_row0_col3, #T_72c29_row1_col3, #T_72c29_row3_col3, #T_72c29_row4_col3, #T_72c29_row5_col3, #T_72c29_row8_col3, #T_72c29_row9_col3, #T_72c29_row10_col3, #T_72c29_row11_col3, #T_72c29_row13_col3, #T_72c29_row14_col3, #T_72c29_row15_col3 {\n",
       "  background-color: #fee0d2;\n",
       "  color: #000000;\n",
       "}\n",
       "#T_72c29_row0_col7, #T_72c29_row1_col7, #T_72c29_row3_col7, #T_72c29_row4_col7, #T_72c29_row10_col7, #T_72c29_row11_col7, #T_72c29_row13_col7, #T_72c29_row14_col7, #T_72c29_row15_col7, #T_72c29_row16_col7 {\n",
       "  background-color: #f7fcf5;\n",
       "  color: #000000;\n",
       "}\n",
       "#T_72c29_row2_col1 {\n",
       "  width: 10em;\n",
       "  background: linear-gradient(90deg, #205ff2 11.7%, transparent 11.7%);\n",
       "}\n",
       "#T_72c29_row2_col2 {\n",
       "  background-color: #a9ddb5;\n",
       "  color: #000000;\n",
       "}\n",
       "#T_72c29_row2_col3 {\n",
       "  background-color: #fff5f0;\n",
       "  color: #000000;\n",
       "}\n",
       "#T_72c29_row2_col5 {\n",
       "  background-color: #eef8e7;\n",
       "  color: #000000;\n",
       "}\n",
       "#T_72c29_row2_col7 {\n",
       "  background-color: #00441b;\n",
       "  color: #f1f1f1;\n",
       "}\n",
       "#T_72c29_row5_col1 {\n",
       "  width: 10em;\n",
       "  background: linear-gradient(90deg, #205ff2 5.3%, transparent 5.3%);\n",
       "}\n",
       "#T_72c29_row5_col2 {\n",
       "  background-color: #dff2da;\n",
       "  color: #000000;\n",
       "}\n",
       "#T_72c29_row5_col5 {\n",
       "  background-color: #f1f9ea;\n",
       "  color: #000000;\n",
       "}\n",
       "#T_72c29_row5_col7, #T_72c29_row9_col2 {\n",
       "  background-color: #e5f5e0;\n",
       "  color: #000000;\n",
       "}\n",
       "#T_72c29_row6_col1 {\n",
       "  width: 10em;\n",
       "  background: linear-gradient(90deg, #205ff2 2.4%, transparent 2.4%);\n",
       "}\n",
       "#T_72c29_row6_col2 {\n",
       "  background-color: #dcf1d6;\n",
       "  color: #000000;\n",
       "}\n",
       "#T_72c29_row6_col3 {\n",
       "  background-color: #fee1d4;\n",
       "  color: #000000;\n",
       "}\n",
       "#T_72c29_row6_col7 {\n",
       "  background-color: #dff3da;\n",
       "  color: #000000;\n",
       "}\n",
       "#T_72c29_row7_col1 {\n",
       "  width: 10em;\n",
       "  background: linear-gradient(90deg, #205ff2 1.1%, transparent 1.1%);\n",
       "}\n",
       "#T_72c29_row7_col2 {\n",
       "  background-color: #dbf1d5;\n",
       "  color: #000000;\n",
       "}\n",
       "#T_72c29_row7_col3 {\n",
       "  background-color: #fee1d3;\n",
       "  color: #000000;\n",
       "}\n",
       "#T_72c29_row7_col7 {\n",
       "  background-color: #d2edcc;\n",
       "  color: #000000;\n",
       "}\n",
       "#T_72c29_row8_col1 {\n",
       "  width: 10em;\n",
       "  background: linear-gradient(90deg, #205ff2 2.5%, transparent 2.5%);\n",
       "}\n",
       "#T_72c29_row8_col2 {\n",
       "  background-color: #e4f5df;\n",
       "  color: #000000;\n",
       "}\n",
       "#T_72c29_row8_col5 {\n",
       "  background-color: #f6fbef;\n",
       "  color: #000000;\n",
       "}\n",
       "#T_72c29_row8_col7 {\n",
       "  background-color: #e9f7e5;\n",
       "  color: #000000;\n",
       "}\n",
       "#T_72c29_row9_col1 {\n",
       "  width: 10em;\n",
       "  background: linear-gradient(90deg, #205ff2 3.4%, transparent 3.4%);\n",
       "}\n",
       "#T_72c29_row9_col5 {\n",
       "  background-color: #f3faec;\n",
       "  color: #000000;\n",
       "}\n",
       "#T_72c29_row9_col7 {\n",
       "  background-color: #ddf2d8;\n",
       "  color: #000000;\n",
       "}\n",
       "#T_72c29_row10_col1 {\n",
       "  width: 10em;\n",
       "  background: linear-gradient(90deg, #205ff2 0.1%, transparent 0.1%);\n",
       "}\n",
       "#T_72c29_row12_col1 {\n",
       "  width: 10em;\n",
       "  background: linear-gradient(90deg, #205ff2 100.0%, transparent 100.0%);\n",
       "}\n",
       "#T_72c29_row12_col2, #T_72c29_row12_col5 {\n",
       "  background-color: #084081;\n",
       "  color: #f1f1f1;\n",
       "}\n",
       "#T_72c29_row12_col3 {\n",
       "  background-color: #67000d;\n",
       "  color: #f1f1f1;\n",
       "}\n",
       "#T_72c29_row12_col7 {\n",
       "  background-color: #b2e0ac;\n",
       "  color: #000000;\n",
       "}\n",
       "#T_72c29_row16_col1 {\n",
       "  width: 10em;\n",
       "  background: linear-gradient(90deg, #205ff2 1.5%, transparent 1.5%);\n",
       "}\n",
       "#T_72c29_row16_col3 {\n",
       "  background-color: #fdd2bf;\n",
       "  color: #000000;\n",
       "}\n",
       "#T_72c29_row16_col5 {\n",
       "  background-color: #f5fbee;\n",
       "  color: #000000;\n",
       "}\n",
       "</style>\n",
       "<table id=\"T_72c29\">\n",
       "  <caption>Stats Summary of Numeric Variables</caption>\n",
       "  <thead>\n",
       "    <tr>\n",
       "      <th class=\"blank level0\" >&nbsp;</th>\n",
       "      <th id=\"T_72c29_level0_col0\" class=\"col_heading level0 col0\" >count</th>\n",
       "      <th id=\"T_72c29_level0_col1\" class=\"col_heading level0 col1\" >mean</th>\n",
       "      <th id=\"T_72c29_level0_col2\" class=\"col_heading level0 col2\" >std</th>\n",
       "      <th id=\"T_72c29_level0_col3\" class=\"col_heading level0 col3\" >min</th>\n",
       "      <th id=\"T_72c29_level0_col4\" class=\"col_heading level0 col4\" >25%</th>\n",
       "      <th id=\"T_72c29_level0_col5\" class=\"col_heading level0 col5\" >50%</th>\n",
       "      <th id=\"T_72c29_level0_col6\" class=\"col_heading level0 col6\" >75%</th>\n",
       "      <th id=\"T_72c29_level0_col7\" class=\"col_heading level0 col7\" >max</th>\n",
       "      <th id=\"T_72c29_level0_col8\" class=\"col_heading level0 col8\" >% NAN</th>\n",
       "    </tr>\n",
       "  </thead>\n",
       "  <tbody>\n",
       "    <tr>\n",
       "      <th id=\"T_72c29_level0_row0\" class=\"row_heading level0 row0\" >Store</th>\n",
       "      <td id=\"T_72c29_row0_col0\" class=\"data row0 col0\" >421570.000000</td>\n",
       "      <td id=\"T_72c29_row0_col1\" class=\"data row0 col1\" >22.200546</td>\n",
       "      <td id=\"T_72c29_row0_col2\" class=\"data row0 col2\" >12.785297</td>\n",
       "      <td id=\"T_72c29_row0_col3\" class=\"data row0 col3\" >1.000000</td>\n",
       "      <td id=\"T_72c29_row0_col4\" class=\"data row0 col4\" >11.000000</td>\n",
       "      <td id=\"T_72c29_row0_col5\" class=\"data row0 col5\" >22.000000</td>\n",
       "      <td id=\"T_72c29_row0_col6\" class=\"data row0 col6\" >33.000000</td>\n",
       "      <td id=\"T_72c29_row0_col7\" class=\"data row0 col7\" >45.000000</td>\n",
       "      <td id=\"T_72c29_row0_col8\" class=\"data row0 col8\" >0.000000</td>\n",
       "    </tr>\n",
       "    <tr>\n",
       "      <th id=\"T_72c29_level0_row1\" class=\"row_heading level0 row1\" >Dept</th>\n",
       "      <td id=\"T_72c29_row1_col0\" class=\"data row1 col0\" >421570.000000</td>\n",
       "      <td id=\"T_72c29_row1_col1\" class=\"data row1 col1\" >44.260317</td>\n",
       "      <td id=\"T_72c29_row1_col2\" class=\"data row1 col2\" >30.492054</td>\n",
       "      <td id=\"T_72c29_row1_col3\" class=\"data row1 col3\" >1.000000</td>\n",
       "      <td id=\"T_72c29_row1_col4\" class=\"data row1 col4\" >18.000000</td>\n",
       "      <td id=\"T_72c29_row1_col5\" class=\"data row1 col5\" >37.000000</td>\n",
       "      <td id=\"T_72c29_row1_col6\" class=\"data row1 col6\" >74.000000</td>\n",
       "      <td id=\"T_72c29_row1_col7\" class=\"data row1 col7\" >99.000000</td>\n",
       "      <td id=\"T_72c29_row1_col8\" class=\"data row1 col8\" >0.000000</td>\n",
       "    </tr>\n",
       "    <tr>\n",
       "      <th id=\"T_72c29_level0_row2\" class=\"row_heading level0 row2\" >Weekly_Sales</th>\n",
       "      <td id=\"T_72c29_row2_col0\" class=\"data row2 col0\" >421570.000000</td>\n",
       "      <td id=\"T_72c29_row2_col1\" class=\"data row2 col1\" >15981.258123</td>\n",
       "      <td id=\"T_72c29_row2_col2\" class=\"data row2 col2\" >22711.183519</td>\n",
       "      <td id=\"T_72c29_row2_col3\" class=\"data row2 col3\" >-4988.940000</td>\n",
       "      <td id=\"T_72c29_row2_col4\" class=\"data row2 col4\" >2079.650000</td>\n",
       "      <td id=\"T_72c29_row2_col5\" class=\"data row2 col5\" >7612.030000</td>\n",
       "      <td id=\"T_72c29_row2_col6\" class=\"data row2 col6\" >20205.852500</td>\n",
       "      <td id=\"T_72c29_row2_col7\" class=\"data row2 col7\" >693099.360000</td>\n",
       "      <td id=\"T_72c29_row2_col8\" class=\"data row2 col8\" >0.000000</td>\n",
       "    </tr>\n",
       "    <tr>\n",
       "      <th id=\"T_72c29_level0_row3\" class=\"row_heading level0 row3\" >Temperature</th>\n",
       "      <td id=\"T_72c29_row3_col0\" class=\"data row3 col0\" >421570.000000</td>\n",
       "      <td id=\"T_72c29_row3_col1\" class=\"data row3 col1\" >60.090059</td>\n",
       "      <td id=\"T_72c29_row3_col2\" class=\"data row3 col2\" >18.447931</td>\n",
       "      <td id=\"T_72c29_row3_col3\" class=\"data row3 col3\" >-2.060000</td>\n",
       "      <td id=\"T_72c29_row3_col4\" class=\"data row3 col4\" >46.680000</td>\n",
       "      <td id=\"T_72c29_row3_col5\" class=\"data row3 col5\" >62.090000</td>\n",
       "      <td id=\"T_72c29_row3_col6\" class=\"data row3 col6\" >74.280000</td>\n",
       "      <td id=\"T_72c29_row3_col7\" class=\"data row3 col7\" >100.140000</td>\n",
       "      <td id=\"T_72c29_row3_col8\" class=\"data row3 col8\" >0.000000</td>\n",
       "    </tr>\n",
       "    <tr>\n",
       "      <th id=\"T_72c29_level0_row4\" class=\"row_heading level0 row4\" >Fuel_Price</th>\n",
       "      <td id=\"T_72c29_row4_col0\" class=\"data row4 col0\" >421570.000000</td>\n",
       "      <td id=\"T_72c29_row4_col1\" class=\"data row4 col1\" >3.361027</td>\n",
       "      <td id=\"T_72c29_row4_col2\" class=\"data row4 col2\" >0.458515</td>\n",
       "      <td id=\"T_72c29_row4_col3\" class=\"data row4 col3\" >2.472000</td>\n",
       "      <td id=\"T_72c29_row4_col4\" class=\"data row4 col4\" >2.933000</td>\n",
       "      <td id=\"T_72c29_row4_col5\" class=\"data row4 col5\" >3.452000</td>\n",
       "      <td id=\"T_72c29_row4_col6\" class=\"data row4 col6\" >3.738000</td>\n",
       "      <td id=\"T_72c29_row4_col7\" class=\"data row4 col7\" >4.468000</td>\n",
       "      <td id=\"T_72c29_row4_col8\" class=\"data row4 col8\" >0.000000</td>\n",
       "    </tr>\n",
       "    <tr>\n",
       "      <th id=\"T_72c29_level0_row5\" class=\"row_heading level0 row5\" >MarkDown1</th>\n",
       "      <td id=\"T_72c29_row5_col0\" class=\"data row5 col0\" >150681.000000</td>\n",
       "      <td id=\"T_72c29_row5_col1\" class=\"data row5 col1\" >7246.420196</td>\n",
       "      <td id=\"T_72c29_row5_col2\" class=\"data row5 col2\" >8291.221345</td>\n",
       "      <td id=\"T_72c29_row5_col3\" class=\"data row5 col3\" >0.270000</td>\n",
       "      <td id=\"T_72c29_row5_col4\" class=\"data row5 col4\" >2240.270000</td>\n",
       "      <td id=\"T_72c29_row5_col5\" class=\"data row5 col5\" >5347.450000</td>\n",
       "      <td id=\"T_72c29_row5_col6\" class=\"data row5 col6\" >9210.900000</td>\n",
       "      <td id=\"T_72c29_row5_col7\" class=\"data row5 col7\" >88646.760000</td>\n",
       "      <td id=\"T_72c29_row5_col8\" class=\"data row5 col8\" >64.300000</td>\n",
       "    </tr>\n",
       "    <tr>\n",
       "      <th id=\"T_72c29_level0_row6\" class=\"row_heading level0 row6\" >MarkDown2</th>\n",
       "      <td id=\"T_72c29_row6_col0\" class=\"data row6 col0\" >111248.000000</td>\n",
       "      <td id=\"T_72c29_row6_col1\" class=\"data row6 col1\" >3334.628621</td>\n",
       "      <td id=\"T_72c29_row6_col2\" class=\"data row6 col2\" >9475.357325</td>\n",
       "      <td id=\"T_72c29_row6_col3\" class=\"data row6 col3\" >-265.760000</td>\n",
       "      <td id=\"T_72c29_row6_col4\" class=\"data row6 col4\" >41.600000</td>\n",
       "      <td id=\"T_72c29_row6_col5\" class=\"data row6 col5\" >192.000000</td>\n",
       "      <td id=\"T_72c29_row6_col6\" class=\"data row6 col6\" >1926.940000</td>\n",
       "      <td id=\"T_72c29_row6_col7\" class=\"data row6 col7\" >104519.540000</td>\n",
       "      <td id=\"T_72c29_row6_col8\" class=\"data row6 col8\" >73.600000</td>\n",
       "    </tr>\n",
       "    <tr>\n",
       "      <th id=\"T_72c29_level0_row7\" class=\"row_heading level0 row7\" >MarkDown3</th>\n",
       "      <td id=\"T_72c29_row7_col0\" class=\"data row7 col0\" >137091.000000</td>\n",
       "      <td id=\"T_72c29_row7_col1\" class=\"data row7 col1\" >1439.421384</td>\n",
       "      <td id=\"T_72c29_row7_col2\" class=\"data row7 col2\" >9623.078290</td>\n",
       "      <td id=\"T_72c29_row7_col3\" class=\"data row7 col3\" >-29.100000</td>\n",
       "      <td id=\"T_72c29_row7_col4\" class=\"data row7 col4\" >5.080000</td>\n",
       "      <td id=\"T_72c29_row7_col5\" class=\"data row7 col5\" >24.600000</td>\n",
       "      <td id=\"T_72c29_row7_col6\" class=\"data row7 col6\" >103.990000</td>\n",
       "      <td id=\"T_72c29_row7_col7\" class=\"data row7 col7\" >141630.610000</td>\n",
       "      <td id=\"T_72c29_row7_col8\" class=\"data row7 col8\" >67.500000</td>\n",
       "    </tr>\n",
       "    <tr>\n",
       "      <th id=\"T_72c29_level0_row8\" class=\"row_heading level0 row8\" >MarkDown4</th>\n",
       "      <td id=\"T_72c29_row8_col0\" class=\"data row8 col0\" >134967.000000</td>\n",
       "      <td id=\"T_72c29_row8_col1\" class=\"data row8 col1\" >3383.168256</td>\n",
       "      <td id=\"T_72c29_row8_col2\" class=\"data row8 col2\" >6292.384031</td>\n",
       "      <td id=\"T_72c29_row8_col3\" class=\"data row8 col3\" >0.220000</td>\n",
       "      <td id=\"T_72c29_row8_col4\" class=\"data row8 col4\" >504.220000</td>\n",
       "      <td id=\"T_72c29_row8_col5\" class=\"data row8 col5\" >1481.310000</td>\n",
       "      <td id=\"T_72c29_row8_col6\" class=\"data row8 col6\" >3595.040000</td>\n",
       "      <td id=\"T_72c29_row8_col7\" class=\"data row8 col7\" >67474.850000</td>\n",
       "      <td id=\"T_72c29_row8_col8\" class=\"data row8 col8\" >68.000000</td>\n",
       "    </tr>\n",
       "    <tr>\n",
       "      <th id=\"T_72c29_level0_row9\" class=\"row_heading level0 row9\" >MarkDown5</th>\n",
       "      <td id=\"T_72c29_row9_col0\" class=\"data row9 col0\" >151432.000000</td>\n",
       "      <td id=\"T_72c29_row9_col1\" class=\"data row9 col1\" >4628.975079</td>\n",
       "      <td id=\"T_72c29_row9_col2\" class=\"data row9 col2\" >5962.887455</td>\n",
       "      <td id=\"T_72c29_row9_col3\" class=\"data row9 col3\" >135.160000</td>\n",
       "      <td id=\"T_72c29_row9_col4\" class=\"data row9 col4\" >1878.440000</td>\n",
       "      <td id=\"T_72c29_row9_col5\" class=\"data row9 col5\" >3359.450000</td>\n",
       "      <td id=\"T_72c29_row9_col6\" class=\"data row9 col6\" >5563.800000</td>\n",
       "      <td id=\"T_72c29_row9_col7\" class=\"data row9 col7\" >108519.280000</td>\n",
       "      <td id=\"T_72c29_row9_col8\" class=\"data row9 col8\" >64.100000</td>\n",
       "    </tr>\n",
       "    <tr>\n",
       "      <th id=\"T_72c29_level0_row10\" class=\"row_heading level0 row10\" >CPI</th>\n",
       "      <td id=\"T_72c29_row10_col0\" class=\"data row10 col0\" >421570.000000</td>\n",
       "      <td id=\"T_72c29_row10_col1\" class=\"data row10 col1\" >171.201947</td>\n",
       "      <td id=\"T_72c29_row10_col2\" class=\"data row10 col2\" >39.159276</td>\n",
       "      <td id=\"T_72c29_row10_col3\" class=\"data row10 col3\" >126.064000</td>\n",
       "      <td id=\"T_72c29_row10_col4\" class=\"data row10 col4\" >132.022667</td>\n",
       "      <td id=\"T_72c29_row10_col5\" class=\"data row10 col5\" >182.318780</td>\n",
       "      <td id=\"T_72c29_row10_col6\" class=\"data row10 col6\" >212.416993</td>\n",
       "      <td id=\"T_72c29_row10_col7\" class=\"data row10 col7\" >227.232807</td>\n",
       "      <td id=\"T_72c29_row10_col8\" class=\"data row10 col8\" >0.000000</td>\n",
       "    </tr>\n",
       "    <tr>\n",
       "      <th id=\"T_72c29_level0_row11\" class=\"row_heading level0 row11\" >Unemployment</th>\n",
       "      <td id=\"T_72c29_row11_col0\" class=\"data row11 col0\" >421570.000000</td>\n",
       "      <td id=\"T_72c29_row11_col1\" class=\"data row11 col1\" >7.960289</td>\n",
       "      <td id=\"T_72c29_row11_col2\" class=\"data row11 col2\" >1.863296</td>\n",
       "      <td id=\"T_72c29_row11_col3\" class=\"data row11 col3\" >3.879000</td>\n",
       "      <td id=\"T_72c29_row11_col4\" class=\"data row11 col4\" >6.891000</td>\n",
       "      <td id=\"T_72c29_row11_col5\" class=\"data row11 col5\" >7.866000</td>\n",
       "      <td id=\"T_72c29_row11_col6\" class=\"data row11 col6\" >8.572000</td>\n",
       "      <td id=\"T_72c29_row11_col7\" class=\"data row11 col7\" >14.313000</td>\n",
       "      <td id=\"T_72c29_row11_col8\" class=\"data row11 col8\" >0.000000</td>\n",
       "    </tr>\n",
       "    <tr>\n",
       "      <th id=\"T_72c29_level0_row12\" class=\"row_heading level0 row12\" >Size</th>\n",
       "      <td id=\"T_72c29_row12_col0\" class=\"data row12 col0\" >421570.000000</td>\n",
       "      <td id=\"T_72c29_row12_col1\" class=\"data row12 col1\" >136727.915739</td>\n",
       "      <td id=\"T_72c29_row12_col2\" class=\"data row12 col2\" >60980.583328</td>\n",
       "      <td id=\"T_72c29_row12_col3\" class=\"data row12 col3\" >34875.000000</td>\n",
       "      <td id=\"T_72c29_row12_col4\" class=\"data row12 col4\" >93638.000000</td>\n",
       "      <td id=\"T_72c29_row12_col5\" class=\"data row12 col5\" >140167.000000</td>\n",
       "      <td id=\"T_72c29_row12_col6\" class=\"data row12 col6\" >202505.000000</td>\n",
       "      <td id=\"T_72c29_row12_col7\" class=\"data row12 col7\" >219622.000000</td>\n",
       "      <td id=\"T_72c29_row12_col8\" class=\"data row12 col8\" >0.000000</td>\n",
       "    </tr>\n",
       "    <tr>\n",
       "      <th id=\"T_72c29_level0_row13\" class=\"row_heading level0 row13\" >Day</th>\n",
       "      <td id=\"T_72c29_row13_col0\" class=\"data row13 col0\" >421570.000000</td>\n",
       "      <td id=\"T_72c29_row13_col1\" class=\"data row13 col1\" >15.673131</td>\n",
       "      <td id=\"T_72c29_row13_col2\" class=\"data row13 col2\" >8.753549</td>\n",
       "      <td id=\"T_72c29_row13_col3\" class=\"data row13 col3\" >1.000000</td>\n",
       "      <td id=\"T_72c29_row13_col4\" class=\"data row13 col4\" >8.000000</td>\n",
       "      <td id=\"T_72c29_row13_col5\" class=\"data row13 col5\" >16.000000</td>\n",
       "      <td id=\"T_72c29_row13_col6\" class=\"data row13 col6\" >23.000000</td>\n",
       "      <td id=\"T_72c29_row13_col7\" class=\"data row13 col7\" >31.000000</td>\n",
       "      <td id=\"T_72c29_row13_col8\" class=\"data row13 col8\" >0.000000</td>\n",
       "    </tr>\n",
       "    <tr>\n",
       "      <th id=\"T_72c29_level0_row14\" class=\"row_heading level0 row14\" >Week</th>\n",
       "      <td id=\"T_72c29_row14_col0\" class=\"data row14 col0\" >421570.000000</td>\n",
       "      <td id=\"T_72c29_row14_col1\" class=\"data row14 col1\" >25.826762</td>\n",
       "      <td id=\"T_72c29_row14_col2\" class=\"data row14 col2\" >14.151887</td>\n",
       "      <td id=\"T_72c29_row14_col3\" class=\"data row14 col3\" >1.000000</td>\n",
       "      <td id=\"T_72c29_row14_col4\" class=\"data row14 col4\" >14.000000</td>\n",
       "      <td id=\"T_72c29_row14_col5\" class=\"data row14 col5\" >26.000000</td>\n",
       "      <td id=\"T_72c29_row14_col6\" class=\"data row14 col6\" >38.000000</td>\n",
       "      <td id=\"T_72c29_row14_col7\" class=\"data row14 col7\" >52.000000</td>\n",
       "      <td id=\"T_72c29_row14_col8\" class=\"data row14 col8\" >0.000000</td>\n",
       "    </tr>\n",
       "    <tr>\n",
       "      <th id=\"T_72c29_level0_row15\" class=\"row_heading level0 row15\" >Month</th>\n",
       "      <td id=\"T_72c29_row15_col0\" class=\"data row15 col0\" >421570.000000</td>\n",
       "      <td id=\"T_72c29_row15_col1\" class=\"data row15 col1\" >6.449510</td>\n",
       "      <td id=\"T_72c29_row15_col2\" class=\"data row15 col2\" >3.243217</td>\n",
       "      <td id=\"T_72c29_row15_col3\" class=\"data row15 col3\" >1.000000</td>\n",
       "      <td id=\"T_72c29_row15_col4\" class=\"data row15 col4\" >4.000000</td>\n",
       "      <td id=\"T_72c29_row15_col5\" class=\"data row15 col5\" >6.000000</td>\n",
       "      <td id=\"T_72c29_row15_col6\" class=\"data row15 col6\" >9.000000</td>\n",
       "      <td id=\"T_72c29_row15_col7\" class=\"data row15 col7\" >12.000000</td>\n",
       "      <td id=\"T_72c29_row15_col8\" class=\"data row15 col8\" >0.000000</td>\n",
       "    </tr>\n",
       "    <tr>\n",
       "      <th id=\"T_72c29_level0_row16\" class=\"row_heading level0 row16\" >Year</th>\n",
       "      <td id=\"T_72c29_row16_col0\" class=\"data row16 col0\" >421570.000000</td>\n",
       "      <td id=\"T_72c29_row16_col1\" class=\"data row16 col1\" >2010.968591</td>\n",
       "      <td id=\"T_72c29_row16_col2\" class=\"data row16 col2\" >0.796876</td>\n",
       "      <td id=\"T_72c29_row16_col3\" class=\"data row16 col3\" >2010.000000</td>\n",
       "      <td id=\"T_72c29_row16_col4\" class=\"data row16 col4\" >2010.000000</td>\n",
       "      <td id=\"T_72c29_row16_col5\" class=\"data row16 col5\" >2011.000000</td>\n",
       "      <td id=\"T_72c29_row16_col6\" class=\"data row16 col6\" >2012.000000</td>\n",
       "      <td id=\"T_72c29_row16_col7\" class=\"data row16 col7\" >2012.000000</td>\n",
       "      <td id=\"T_72c29_row16_col8\" class=\"data row16 col8\" >0.000000</td>\n",
       "    </tr>\n",
       "  </tbody>\n",
       "</table>\n"
      ],
      "text/plain": [
       "<pandas.io.formats.style.Styler at 0x333750690>"
      ]
     },
     "execution_count": 90,
     "metadata": {},
     "output_type": "execute_result"
    }
   ],
   "source": [
    "df_describe = df_train.describe().T\n",
    "df_describe[\"% NAN\"] = np.round(100 * (df_train.shape[0] - df_describe[\"count\"]) / df_train.shape[0], 1)\n",
    "df_describe.style.bar(subset=['mean'], color='#205ff2')\\\n",
    "                            .set_caption(\"Stats Summary of Numeric Variables\")\\\n",
    "                            .background_gradient(subset=['min'], cmap='Reds')\\\n",
    "                            .background_gradient(subset=['max'], cmap='Greens')\\\n",
    "                            .background_gradient(subset=['std'], cmap='GnBu')\\\n",
    "                            .background_gradient(subset=['50%'], cmap='GnBu')\n"
   ]
  },
  {
   "cell_type": "markdown",
   "id": "116c3231",
   "metadata": {},
   "source": [
    "### Evolution du chiffre d'affaires sur l'année\n",
    "\n",
    "Le chiffre d'affaires hebdomadaire est très dépendant de la période de l'année et particulièrement des spéciauax (Superbowl, Noël etc...)"
   ]
  },
  {
   "cell_type": "code",
   "execution_count": 58,
   "id": "cbd6ddd0",
   "metadata": {},
   "outputs": [
    {
     "data": {
      "application/vnd.plotly.v1+json": {
       "config": {
        "plotlyServerURL": "https://plot.ly"
       },
       "data": [
        {
         "hovertemplate": "Year=2010<br>Week=%{x}<br>Total Sales=%{y}<extra></extra>",
         "legendgroup": "2010",
         "line": {
          "color": "#1F77B4",
          "dash": "solid"
         },
         "marker": {
          "symbol": "circle"
         },
         "mode": "lines",
         "name": "2010",
         "orientation": "v",
         "showlegend": true,
         "type": "scatter",
         "x": [
          5,
          6,
          7,
          8,
          9,
          10,
          11,
          12,
          13,
          14,
          15,
          16,
          17,
          18,
          19,
          20,
          21,
          22,
          23,
          24,
          25,
          26,
          27,
          28,
          29,
          30,
          31,
          32,
          33,
          34,
          35,
          36,
          37,
          38,
          39,
          40,
          41,
          42,
          43,
          44,
          45,
          46,
          47,
          48,
          49,
          50,
          51,
          52
         ],
         "xaxis": "x",
         "y": [
          49750740.5,
          48336677.63,
          48276993.78,
          43968571.13,
          46871470.3,
          45925396.51,
          44988974.64,
          44133961.05,
          50423831.26,
          47365290.44,
          45183667.08,
          44734452.56,
          43705126.71,
          48503243.52,
          45330080.2,
          45120108.06,
          47757502.56,
          50188543.12,
          47826546.72,
          47622046.23,
          46609036.29,
          48917484.5,
          47899529.37,
          46243899.58,
          44888849.11,
          44630363.42,
          48204999.12,
          46464418.410000004,
          47060952.92,
          45909740.44,
          47194257.61,
          45634397.84,
          43080726.51,
          41358514.41,
          42239875.87,
          45102974.23,
          43149473.45,
          43066669.52,
          43602830.95,
          45781981.89,
          46124800.83,
          45125584.18,
          65821003.24,
          49909027.88,
          55666770.39,
          61820799.85,
          80931415.6,
          40432519
         ],
         "yaxis": "y"
        },
        {
         "hovertemplate": "Year=2011<br>Week=%{x}<br>Total Sales=%{y}<extra></extra>",
         "legendgroup": "2011",
         "line": {
          "color": "#FF7F0E",
          "dash": "solid"
         },
         "marker": {
          "symbol": "circle"
         },
         "mode": "lines",
         "name": "2011",
         "orientation": "v",
         "showlegend": true,
         "type": "scatter",
         "x": [
          1,
          2,
          3,
          4,
          5,
          6,
          7,
          8,
          9,
          10,
          11,
          12,
          13,
          14,
          15,
          16,
          17,
          18,
          19,
          20,
          21,
          22,
          23,
          24,
          25,
          26,
          27,
          28,
          29,
          30,
          31,
          32,
          33,
          34,
          35,
          36,
          37,
          38,
          39,
          40,
          41,
          42,
          43,
          44,
          45,
          46,
          47,
          48,
          49,
          50,
          51,
          52
         ],
         "xaxis": "x",
         "y": [
          42775787.77,
          40673678.04,
          40654648.03,
          39599852.99,
          46153111.12,
          47336192.79,
          48716164.12,
          44125859.84,
          46980603.74,
          44627319.4,
          44872325.97,
          42876199.18,
          43458991.19,
          45887466.8,
          44973328.14,
          48676692.06,
          43530032.78,
          46861958.29,
          45446144.82,
          44046598.01,
          45293457.04,
          48771994.18,
          47669734.66,
          47447561.77,
          45884094.58,
          47578519.5,
          47859263.78,
          45515929.92,
          45274411.39,
          43683274.28,
          48015466.97,
          46249569.21,
          46917347.62,
          47416948.45,
          45376623.27,
          46763227.53,
          43793960.08,
          42718096.73,
          42195830.81,
          47211688.36,
          44374820.3,
          45818953.44,
          45855821.05,
          48655544.3,
          48474224.75,
          46438980.56,
          66593605.26,
          49390556.49,
          55561147.7,
          60085695.94,
          76998241.31,
          46042461.04
         ],
         "yaxis": "y"
        },
        {
         "hovertemplate": "Year=2012<br>Week=%{x}<br>Total Sales=%{y}<extra></extra>",
         "legendgroup": "2012",
         "line": {
          "color": "#2CA02C",
          "dash": "solid"
         },
         "marker": {
          "symbol": "circle"
         },
         "mode": "lines",
         "name": "2012",
         "orientation": "v",
         "showlegend": true,
         "type": "scatter",
         "x": [
          1,
          2,
          3,
          4,
          5,
          6,
          7,
          8,
          9,
          10,
          11,
          12,
          13,
          14,
          15,
          16,
          17,
          18,
          19,
          20,
          21,
          22,
          23,
          24,
          25,
          26,
          27,
          28,
          29,
          30,
          31,
          32,
          33,
          34,
          35,
          36,
          37,
          38,
          39,
          40,
          41,
          42,
          43
         ],
         "xaxis": "x",
         "y": [
          44955421.95,
          42023078.48,
          42080996.56,
          39834974.67,
          46085608.09,
          50009407.92,
          50197056.96,
          45771506.57,
          46861034.97,
          47480454.11,
          46901504.94,
          44993794.45,
          45272862.02,
          53502315.87,
          46629261.41,
          45072529.78,
          43716798.89,
          47124197.93,
          46925878.99,
          46823939.22,
          47892463.31,
          48281649.72,
          49651171.78,
          48412110.7,
          47668284.97,
          46597112.12,
          51253021.88,
          46099732.1,
          46059543.45,
          44097154.97,
          47485899.56,
          47403451.04,
          47354452.05,
          47447323.6,
          47159639.43,
          48330059.31,
          44226038.65,
          44354547.11,
          43734899.4,
          47566639.31,
          46128514.25,
          45122410.57,
          45544116.29
         ],
         "yaxis": "y"
        }
       ],
       "layout": {
        "annotations": [
         {
          "align": "left",
          "font": {
           "size": 12
          },
          "showarrow": false,
          "textangle": 0,
          "x": 0,
          "xref": "paper",
          "y": -0.2,
          "yref": "paper"
         }
        ],
        "legend": {
         "title": {
          "text": "Year"
         },
         "tracegroupgap": 0
        },
        "margin": {
         "t": 60
        },
        "template": {
         "data": {
          "bar": [
           {
            "error_x": {
             "color": "rgb(36,36,36)"
            },
            "error_y": {
             "color": "rgb(36,36,36)"
            },
            "marker": {
             "line": {
              "color": "white",
              "width": 0.5
             },
             "pattern": {
              "fillmode": "overlay",
              "size": 10,
              "solidity": 0.2
             }
            },
            "type": "bar"
           }
          ],
          "barpolar": [
           {
            "marker": {
             "line": {
              "color": "white",
              "width": 0.5
             },
             "pattern": {
              "fillmode": "overlay",
              "size": 10,
              "solidity": 0.2
             }
            },
            "type": "barpolar"
           }
          ],
          "carpet": [
           {
            "aaxis": {
             "endlinecolor": "rgb(36,36,36)",
             "gridcolor": "white",
             "linecolor": "white",
             "minorgridcolor": "white",
             "startlinecolor": "rgb(36,36,36)"
            },
            "baxis": {
             "endlinecolor": "rgb(36,36,36)",
             "gridcolor": "white",
             "linecolor": "white",
             "minorgridcolor": "white",
             "startlinecolor": "rgb(36,36,36)"
            },
            "type": "carpet"
           }
          ],
          "choropleth": [
           {
            "colorbar": {
             "outlinewidth": 1,
             "tickcolor": "rgb(36,36,36)",
             "ticks": "outside"
            },
            "type": "choropleth"
           }
          ],
          "contour": [
           {
            "colorbar": {
             "outlinewidth": 1,
             "tickcolor": "rgb(36,36,36)",
             "ticks": "outside"
            },
            "colorscale": [
             [
              0,
              "#440154"
             ],
             [
              0.1111111111111111,
              "#482878"
             ],
             [
              0.2222222222222222,
              "#3e4989"
             ],
             [
              0.3333333333333333,
              "#31688e"
             ],
             [
              0.4444444444444444,
              "#26828e"
             ],
             [
              0.5555555555555556,
              "#1f9e89"
             ],
             [
              0.6666666666666666,
              "#35b779"
             ],
             [
              0.7777777777777778,
              "#6ece58"
             ],
             [
              0.8888888888888888,
              "#b5de2b"
             ],
             [
              1,
              "#fde725"
             ]
            ],
            "type": "contour"
           }
          ],
          "contourcarpet": [
           {
            "colorbar": {
             "outlinewidth": 1,
             "tickcolor": "rgb(36,36,36)",
             "ticks": "outside"
            },
            "type": "contourcarpet"
           }
          ],
          "heatmap": [
           {
            "colorbar": {
             "outlinewidth": 1,
             "tickcolor": "rgb(36,36,36)",
             "ticks": "outside"
            },
            "colorscale": [
             [
              0,
              "#440154"
             ],
             [
              0.1111111111111111,
              "#482878"
             ],
             [
              0.2222222222222222,
              "#3e4989"
             ],
             [
              0.3333333333333333,
              "#31688e"
             ],
             [
              0.4444444444444444,
              "#26828e"
             ],
             [
              0.5555555555555556,
              "#1f9e89"
             ],
             [
              0.6666666666666666,
              "#35b779"
             ],
             [
              0.7777777777777778,
              "#6ece58"
             ],
             [
              0.8888888888888888,
              "#b5de2b"
             ],
             [
              1,
              "#fde725"
             ]
            ],
            "type": "heatmap"
           }
          ],
          "heatmapgl": [
           {
            "colorbar": {
             "outlinewidth": 1,
             "tickcolor": "rgb(36,36,36)",
             "ticks": "outside"
            },
            "colorscale": [
             [
              0,
              "#440154"
             ],
             [
              0.1111111111111111,
              "#482878"
             ],
             [
              0.2222222222222222,
              "#3e4989"
             ],
             [
              0.3333333333333333,
              "#31688e"
             ],
             [
              0.4444444444444444,
              "#26828e"
             ],
             [
              0.5555555555555556,
              "#1f9e89"
             ],
             [
              0.6666666666666666,
              "#35b779"
             ],
             [
              0.7777777777777778,
              "#6ece58"
             ],
             [
              0.8888888888888888,
              "#b5de2b"
             ],
             [
              1,
              "#fde725"
             ]
            ],
            "type": "heatmapgl"
           }
          ],
          "histogram": [
           {
            "marker": {
             "line": {
              "color": "white",
              "width": 0.6
             }
            },
            "type": "histogram"
           }
          ],
          "histogram2d": [
           {
            "colorbar": {
             "outlinewidth": 1,
             "tickcolor": "rgb(36,36,36)",
             "ticks": "outside"
            },
            "colorscale": [
             [
              0,
              "#440154"
             ],
             [
              0.1111111111111111,
              "#482878"
             ],
             [
              0.2222222222222222,
              "#3e4989"
             ],
             [
              0.3333333333333333,
              "#31688e"
             ],
             [
              0.4444444444444444,
              "#26828e"
             ],
             [
              0.5555555555555556,
              "#1f9e89"
             ],
             [
              0.6666666666666666,
              "#35b779"
             ],
             [
              0.7777777777777778,
              "#6ece58"
             ],
             [
              0.8888888888888888,
              "#b5de2b"
             ],
             [
              1,
              "#fde725"
             ]
            ],
            "type": "histogram2d"
           }
          ],
          "histogram2dcontour": [
           {
            "colorbar": {
             "outlinewidth": 1,
             "tickcolor": "rgb(36,36,36)",
             "ticks": "outside"
            },
            "colorscale": [
             [
              0,
              "#440154"
             ],
             [
              0.1111111111111111,
              "#482878"
             ],
             [
              0.2222222222222222,
              "#3e4989"
             ],
             [
              0.3333333333333333,
              "#31688e"
             ],
             [
              0.4444444444444444,
              "#26828e"
             ],
             [
              0.5555555555555556,
              "#1f9e89"
             ],
             [
              0.6666666666666666,
              "#35b779"
             ],
             [
              0.7777777777777778,
              "#6ece58"
             ],
             [
              0.8888888888888888,
              "#b5de2b"
             ],
             [
              1,
              "#fde725"
             ]
            ],
            "type": "histogram2dcontour"
           }
          ],
          "mesh3d": [
           {
            "colorbar": {
             "outlinewidth": 1,
             "tickcolor": "rgb(36,36,36)",
             "ticks": "outside"
            },
            "type": "mesh3d"
           }
          ],
          "parcoords": [
           {
            "line": {
             "colorbar": {
              "outlinewidth": 1,
              "tickcolor": "rgb(36,36,36)",
              "ticks": "outside"
             }
            },
            "type": "parcoords"
           }
          ],
          "pie": [
           {
            "automargin": true,
            "type": "pie"
           }
          ],
          "scatter": [
           {
            "fillpattern": {
             "fillmode": "overlay",
             "size": 10,
             "solidity": 0.2
            },
            "type": "scatter"
           }
          ],
          "scatter3d": [
           {
            "line": {
             "colorbar": {
              "outlinewidth": 1,
              "tickcolor": "rgb(36,36,36)",
              "ticks": "outside"
             }
            },
            "marker": {
             "colorbar": {
              "outlinewidth": 1,
              "tickcolor": "rgb(36,36,36)",
              "ticks": "outside"
             }
            },
            "type": "scatter3d"
           }
          ],
          "scattercarpet": [
           {
            "marker": {
             "colorbar": {
              "outlinewidth": 1,
              "tickcolor": "rgb(36,36,36)",
              "ticks": "outside"
             }
            },
            "type": "scattercarpet"
           }
          ],
          "scattergeo": [
           {
            "marker": {
             "colorbar": {
              "outlinewidth": 1,
              "tickcolor": "rgb(36,36,36)",
              "ticks": "outside"
             }
            },
            "type": "scattergeo"
           }
          ],
          "scattergl": [
           {
            "marker": {
             "colorbar": {
              "outlinewidth": 1,
              "tickcolor": "rgb(36,36,36)",
              "ticks": "outside"
             }
            },
            "type": "scattergl"
           }
          ],
          "scattermapbox": [
           {
            "marker": {
             "colorbar": {
              "outlinewidth": 1,
              "tickcolor": "rgb(36,36,36)",
              "ticks": "outside"
             }
            },
            "type": "scattermapbox"
           }
          ],
          "scatterpolar": [
           {
            "marker": {
             "colorbar": {
              "outlinewidth": 1,
              "tickcolor": "rgb(36,36,36)",
              "ticks": "outside"
             }
            },
            "type": "scatterpolar"
           }
          ],
          "scatterpolargl": [
           {
            "marker": {
             "colorbar": {
              "outlinewidth": 1,
              "tickcolor": "rgb(36,36,36)",
              "ticks": "outside"
             }
            },
            "type": "scatterpolargl"
           }
          ],
          "scatterternary": [
           {
            "marker": {
             "colorbar": {
              "outlinewidth": 1,
              "tickcolor": "rgb(36,36,36)",
              "ticks": "outside"
             }
            },
            "type": "scatterternary"
           }
          ],
          "surface": [
           {
            "colorbar": {
             "outlinewidth": 1,
             "tickcolor": "rgb(36,36,36)",
             "ticks": "outside"
            },
            "colorscale": [
             [
              0,
              "#440154"
             ],
             [
              0.1111111111111111,
              "#482878"
             ],
             [
              0.2222222222222222,
              "#3e4989"
             ],
             [
              0.3333333333333333,
              "#31688e"
             ],
             [
              0.4444444444444444,
              "#26828e"
             ],
             [
              0.5555555555555556,
              "#1f9e89"
             ],
             [
              0.6666666666666666,
              "#35b779"
             ],
             [
              0.7777777777777778,
              "#6ece58"
             ],
             [
              0.8888888888888888,
              "#b5de2b"
             ],
             [
              1,
              "#fde725"
             ]
            ],
            "type": "surface"
           }
          ],
          "table": [
           {
            "cells": {
             "fill": {
              "color": "rgb(237,237,237)"
             },
             "line": {
              "color": "white"
             }
            },
            "header": {
             "fill": {
              "color": "rgb(217,217,217)"
             },
             "line": {
              "color": "white"
             }
            },
            "type": "table"
           }
          ]
         },
         "layout": {
          "font": {
           "family": "Enriqueta",
           "size": 12
          }
         }
        },
        "title": {
         "text": "<b>Total des ventes par semaines</b>",
         "x": 0.075
        },
        "xaxis": {
         "anchor": "y",
         "domain": [
          0,
          1
         ],
         "showline": true,
         "tickmode": "linear",
         "title": {
          "text": "Week"
         }
        },
        "yaxis": {
         "anchor": "x",
         "domain": [
          0,
          1
         ],
         "showline": true,
         "title": {
          "text": "Total Sales"
         }
        }
       }
      }
     },
     "metadata": {},
     "output_type": "display_data"
    }
   ],
   "source": [
    "df_weeks = df_train.groupby([\"Year\", 'Week'])[\"Weekly_Sales\"].sum().reset_index()\n",
    "\n",
    "template = dict(layout=go.Layout(font=dict(family=\"Enriqueta\", size=12))) # Cabin | Franklin Bold | Enriqueta\n",
    "fig = px.line(data_frame=df_weeks, x=\"Week\", y='Weekly_Sales', color='Year',\n",
    "            template='simple_white', \n",
    "            labels={'Weekly_Sales' : 'Total Sales', 'x' : 'Weeks'})\n",
    "\n",
    "fig.update_layout(\n",
    "    template=template, \n",
    "    title={'text':'<b>Total des ventes par semaines</b>', 'x': 0.075},\n",
    "    xaxis=dict(tickmode='linear', showline=True), \n",
    "    yaxis=dict(showline=True))\n",
    "\n",
    "fig.add_annotation(\n",
    "    x=0, y=-0.2, \n",
    "    align='left', \n",
    "    font=dict(size=12),\n",
    "    textangle=0, \n",
    "    xref=\"paper\", \n",
    "    yref=\"paper\", \n",
    "    showarrow=False\n",
    "    )\n"
   ]
  },
  {
   "cell_type": "markdown",
   "id": "3093d8d8",
   "metadata": {},
   "source": [
    "### Evolution du chiffre d'affaires par magasin\n",
    "\n",
    "Le chiffre d'affaires hebdomadaire est très différent d'un magasin à l'autre même s'ils suivent à peu près la même tendance."
   ]
  },
  {
   "cell_type": "code",
   "execution_count": 61,
   "id": "e85976e2",
   "metadata": {},
   "outputs": [
    {
     "data": {
      "application/vnd.plotly.v1+json": {
       "config": {
        "plotlyServerURL": "https://plot.ly"
       },
       "data": [
        {
         "hovertemplate": "Store=1<br>Week=%{x}<br>Total Sales=%{y}<extra></extra>",
         "legendgroup": "1",
         "line": {
          "color": "#1F77B4",
          "dash": "solid"
         },
         "marker": {
          "symbol": "circle"
         },
         "mode": "lines",
         "name": "1",
         "orientation": "v",
         "showlegend": true,
         "type": "scatter",
         "x": [
          1,
          2,
          3,
          4,
          5,
          6,
          7,
          8,
          9,
          10,
          11,
          12,
          13,
          14,
          15,
          16,
          17,
          18,
          19,
          20,
          21,
          22,
          23,
          24,
          25,
          26,
          27,
          28,
          29,
          30,
          31,
          32,
          33,
          34,
          35,
          36,
          37,
          38,
          39,
          40,
          41,
          42,
          43,
          44,
          45,
          46,
          47,
          48,
          49,
          50,
          51,
          52
         ],
         "xaxis": "x",
         "y": [
          2995102.2,
          2850615.13,
          2721799.26,
          2636224.9,
          4886660.13,
          5094049.8,
          5118680.95,
          4405915.7,
          4879490.85,
          4668164.38,
          4726806.63,
          4456600.37,
          4739637.66,
          5059354.76,
          4646978.98,
          4477653.8,
          4349119.77,
          4917866.39,
          4710123.13,
          4423782.21,
          4453561.17,
          4875080.7,
          4828740.37,
          4666005.92,
          4389387.56,
          4521377.72,
          4850777.9799999995,
          4431072.93,
          4279946.78,
          4163330.1,
          4861011.32,
          4625794.82,
          4641709.97,
          4407958.76,
          4672476.15,
          4709699.26,
          4462067.32,
          4237937.36,
          4284950.59,
          4810015.85,
          4526007.84,
          4356085.55,
          4323118.05,
          3248888.86,
          3089418.38,
          3023267.88,
          3988944.77,
          3132117.73,
          3482296.64,
          3772211.6,
          4658139.19,
          2864782.73
         ],
         "yaxis": "y"
        },
        {
         "hovertemplate": "Store=2<br>Week=%{x}<br>Total Sales=%{y}<extra></extra>",
         "legendgroup": "2",
         "line": {
          "color": "#FF7F0E",
          "dash": "solid"
         },
         "marker": {
          "symbol": "circle"
         },
         "mode": "lines",
         "name": "2",
         "orientation": "v",
         "showlegend": true,
         "type": "scatter",
         "x": [
          1,
          2,
          3,
          4,
          5,
          6,
          7,
          8,
          9,
          10,
          11,
          12,
          13,
          14,
          15,
          16,
          17,
          18,
          19,
          20,
          21,
          22,
          23,
          24,
          25,
          26,
          27,
          28,
          29,
          30,
          31,
          32,
          33,
          34,
          35,
          36,
          37,
          38,
          39,
          40,
          41,
          42,
          43,
          44,
          45,
          46,
          47,
          48,
          49,
          50,
          51,
          52
         ],
         "xaxis": "x",
         "y": [
          3557570.93,
          3488919.06,
          3463154.01,
          3356277.82,
          6001635.63,
          6409173.79,
          6402024.82,
          5560411.05,
          5925176.57,
          5807219.35,
          5824710.67,
          5306799.0200000005,
          5723839.92,
          5931277.73,
          5667294.88,
          5555674.9799999995,
          5312128.66,
          5804282.4,
          5636786.42,
          5586159.63,
          5667637.54,
          5946388.51,
          5964908.41,
          5918333.25,
          5618586.1,
          5751229.76,
          5775572.01,
          5461142.21,
          5345200.58,
          5242863.1,
          5814718.88,
          5575089.27,
          5736445.83,
          5561768.55,
          5660811.09,
          5485906.55,
          5300149.75,
          5223272.67,
          5224305.43,
          5685795.91,
          5438982.81,
          5420618.3,
          5406509.71,
          3898769.31,
          3837537.89,
          3859501.67,
          5272927.59,
          3970733.27,
          4669275.87,
          5041903.2700000005,
          6660377.4799999995,
          3624661.07
         ],
         "yaxis": "y"
        },
        {
         "hovertemplate": "Store=3<br>Week=%{x}<br>Total Sales=%{y}<extra></extra>",
         "legendgroup": "3",
         "line": {
          "color": "#2CA02C",
          "dash": "solid"
         },
         "marker": {
          "symbol": "circle"
         },
         "mode": "lines",
         "name": "3",
         "orientation": "v",
         "showlegend": true,
         "type": "scatter",
         "x": [
          1,
          2,
          3,
          4,
          5,
          6,
          7,
          8,
          9,
          10,
          11,
          12,
          13,
          14,
          15,
          16,
          17,
          18,
          19,
          20,
          21,
          22,
          23,
          24,
          25,
          26,
          27,
          28,
          29,
          30,
          31,
          32,
          33,
          34,
          35,
          36,
          37,
          38,
          39,
          40,
          41,
          42,
          43,
          44,
          45,
          46,
          47,
          48,
          49,
          50,
          51,
          52
         ],
         "xaxis": "x",
         "y": [
          776419.5499999999,
          748499.72,
          716695.31,
          714384.34,
          1325099.41,
          1324547.64,
          1330015.3699999999,
          1223341.52,
          1322039.11,
          1234116.04,
          1179213.9,
          1154540.19,
          1205339.32,
          1303177.72,
          1142033.69,
          1166658.82,
          1123269.9,
          1252279.55,
          1202655.98,
          1126479.06,
          1133141.1199999999,
          1223745.17,
          1192992.6400000001,
          1209574.98,
          1162365.14,
          1173079.77,
          1155566.92,
          1143096.21,
          1145906.71,
          1082764.24,
          1232607.3,
          1111785.83,
          1126363.95,
          1140951.31,
          1151301.3900000001,
          1137838.19,
          1146283.31,
          1135267.9,
          1117075.05,
          1242007.4,
          1124671.35,
          1168385.42,
          1143565.06,
          882618.78,
          794399.28,
          771384.29,
          1122493.03,
          948932.09,
          936414.83,
          1008907.01,
          1157211.62,
          793231.64
         ],
         "yaxis": "y"
        },
        {
         "hovertemplate": "Store=4<br>Week=%{x}<br>Total Sales=%{y}<extra></extra>",
         "legendgroup": "4",
         "line": {
          "color": "#D62728",
          "dash": "solid"
         },
         "marker": {
          "symbol": "circle"
         },
         "mode": "lines",
         "name": "4",
         "orientation": "v",
         "showlegend": true,
         "type": "scatter",
         "x": [
          1,
          2,
          3,
          4,
          5,
          6,
          7,
          8,
          9,
          10,
          11,
          12,
          13,
          14,
          15,
          16,
          17,
          18,
          19,
          20,
          21,
          22,
          23,
          24,
          25,
          26,
          27,
          28,
          29,
          30,
          31,
          32,
          33,
          34,
          35,
          36,
          37,
          38,
          39,
          40,
          41,
          42,
          43,
          44,
          45,
          46,
          47,
          48,
          49,
          50,
          51,
          52
         ],
         "xaxis": "x",
         "y": [
          3910242.34,
          3807179.07,
          3891491.7,
          3742961.36,
          6427603.82,
          6750815.32,
          6793995.99,
          6230485.7,
          6280833.09,
          6136593.3100000005,
          6228872.18,
          5798296.16,
          5968875.36,
          6363612.31,
          5917408.84,
          6167615.55,
          5759506.38,
          6261277.23,
          6005620.82,
          6126530.89,
          5998269.32,
          6148028.67,
          6189827.79,
          6305137.9,
          6052296.5200000005,
          6061233.66,
          6103249.36,
          6047727.22,
          6060221.86,
          5834925.33,
          6242210.1,
          6306087.18,
          6513613.49,
          5962135.81,
          6095459.24,
          6084064.54,
          6093391.54,
          5961529.62,
          5799927.88,
          6328067.93,
          6074920.01,
          6232619.04,
          6234587.05,
          4294333.1,
          4202823.22,
          4341755.99,
          5794171.78,
          4283529.43,
          4811460.1,
          5511454.31,
          7203102.37,
          3801974.6
         ],
         "yaxis": "y"
        },
        {
         "hovertemplate": "Store=5<br>Week=%{x}<br>Total Sales=%{y}<extra></extra>",
         "legendgroup": "5",
         "line": {
          "color": "#9467BD",
          "dash": "solid"
         },
         "marker": {
          "symbol": "circle"
         },
         "mode": "lines",
         "name": "5",
         "orientation": "v",
         "showlegend": true,
         "type": "scatter",
         "x": [
          1,
          2,
          3,
          4,
          5,
          6,
          7,
          8,
          9,
          10,
          11,
          12,
          13,
          14,
          15,
          16,
          17,
          18,
          19,
          20,
          21,
          22,
          23,
          24,
          25,
          26,
          27,
          28,
          29,
          30,
          31,
          32,
          33,
          34,
          35,
          36,
          37,
          38,
          39,
          40,
          41,
          42,
          43,
          44,
          45,
          46,
          47,
          48,
          49,
          50,
          51,
          52
         ],
         "xaxis": "x",
         "y": [
          598425.97,
          552091.23,
          562837.32,
          575062.61,
          980734.3,
          972656.12,
          1016498.16,
          877161.6,
          977095.58,
          937687.29,
          933276.62,
          889315.46,
          977041.28,
          1038339.81,
          966604.2999999999,
          947318.23,
          930829.14,
          1017359.97,
          921474.3,
          937419.48,
          949157.28,
          1026877.61,
          943330.64,
          945991.06,
          923180.62,
          962745.26,
          943828.23,
          880153.96,
          888487.48,
          850898.56,
          944976.75,
          883123.21,
          904863.4,
          919689.28,
          984085.54,
          978292.21,
          860889.03,
          891463.32,
          885635.18,
          942654.61,
          892144.33,
          904415.6,
          904617.6900000001,
          678962.53,
          613734.06,
          605329.18,
          996262.68,
          720716.49,
          720245.3,
          747331.49,
          924572.49,
          647805.06
         ],
         "yaxis": "y"
        },
        {
         "hovertemplate": "Store=6<br>Week=%{x}<br>Total Sales=%{y}<extra></extra>",
         "legendgroup": "6",
         "line": {
          "color": "#8C564B",
          "dash": "solid"
         },
         "marker": {
          "symbol": "circle"
         },
         "mode": "lines",
         "name": "6",
         "orientation": "v",
         "showlegend": true,
         "type": "scatter",
         "x": [
          1,
          2,
          3,
          4,
          5,
          6,
          7,
          8,
          9,
          10,
          11,
          12,
          13,
          14,
          15,
          16,
          17,
          18,
          19,
          20,
          21,
          22,
          23,
          24,
          25,
          26,
          27,
          28,
          29,
          30,
          31,
          32,
          33,
          34,
          35,
          36,
          37,
          38,
          39,
          40,
          41,
          42,
          43,
          44,
          45,
          46,
          47,
          48,
          49,
          50,
          51,
          52
         ],
         "xaxis": "x",
         "y": [
          2745781.39,
          2650437.72,
          2587508.88,
          2602645.36,
          4663940.05,
          4713807.95,
          4771871.7,
          4320741.35,
          4654352.46,
          4622423.15,
          5126444.67,
          4405642.81,
          4738543.93,
          5041907.01,
          4585037.83,
          4635868.16,
          4433551.16,
          4668032.7299999995,
          4494320.72,
          4428357.91,
          4772243.19,
          5244007.76,
          4980915.52,
          4941646.05,
          4802320.03,
          5103191.86,
          5276051,
          4675064.3,
          4686108.97,
          4529528.99,
          4862101.09,
          4621031.09,
          4576524.06,
          4372267.02,
          4569983.87,
          4515876.83,
          4035112.4,
          4037240.24,
          4005152.27,
          4360234.81,
          4190498.75,
          4187522.89,
          4236195.16,
          3028862.53,
          3031713,
          3043231.52,
          4517263.95,
          3365598.58,
          3738122.72,
          4124964.51,
          5372208.2,
          3062130.54
         ],
         "yaxis": "y"
        },
        {
         "hovertemplate": "Store=7<br>Week=%{x}<br>Total Sales=%{y}<extra></extra>",
         "legendgroup": "7",
         "line": {
          "color": "#E377C2",
          "dash": "solid"
         },
         "marker": {
          "symbol": "circle"
         },
         "mode": "lines",
         "name": "7",
         "orientation": "v",
         "showlegend": true,
         "type": "scatter",
         "x": [
          1,
          2,
          3,
          4,
          5,
          6,
          7,
          8,
          9,
          10,
          11,
          12,
          13,
          14,
          15,
          16,
          17,
          18,
          19,
          20,
          21,
          22,
          23,
          24,
          25,
          26,
          27,
          28,
          29,
          30,
          31,
          32,
          33,
          34,
          35,
          36,
          37,
          38,
          39,
          40,
          41,
          42,
          43,
          44,
          45,
          46,
          47,
          48,
          49,
          50,
          51,
          52
         ],
         "xaxis": "x",
         "y": [
          1374281.6,
          1141260.36,
          1099542.31,
          1054410.15,
          1635206.53,
          1647468.82,
          1700056.19,
          1645815.22,
          1593856.07,
          1618582.43,
          1878670.65,
          1689790.47,
          1657877.01,
          1606241.39,
          1347028.56,
          1328686.2,
          1251913.09,
          1267665.19,
          1247165.07,
          1288294.93,
          1432691.19,
          1649973.61,
          1762644.57,
          1759077.46,
          1881103.52,
          1984250.39,
          2160898.89,
          1894065.45,
          1944620.8599999999,
          1943295.18,
          2020201.82,
          1944782.16,
          1869959.78,
          1793403.08,
          1711587.45,
          1746781.1,
          1589510.18,
          1554995.89,
          1463424.75,
          1511936.8,
          1468793.6,
          1547567.07,
          1488375.95,
          1045048.45,
          1063599.8800000001,
          1022354.92,
          1784265.1300000001,
          1144719.5,
          1253575.52,
          1436631,
          2104840.15,
          1545487.6
         ],
         "yaxis": "y"
        },
        {
         "hovertemplate": "Store=8<br>Week=%{x}<br>Total Sales=%{y}<extra></extra>",
         "legendgroup": "8",
         "line": {
          "color": "#7F7F7F",
          "dash": "solid"
         },
         "marker": {
          "symbol": "circle"
         },
         "mode": "lines",
         "name": "8",
         "orientation": "v",
         "showlegend": true,
         "type": "scatter",
         "x": [
          1,
          2,
          3,
          4,
          5,
          6,
          7,
          8,
          9,
          10,
          11,
          12,
          13,
          14,
          15,
          16,
          17,
          18,
          19,
          20,
          21,
          22,
          23,
          24,
          25,
          26,
          27,
          28,
          29,
          30,
          31,
          32,
          33,
          34,
          35,
          36,
          37,
          38,
          39,
          40,
          41,
          42,
          43,
          44,
          45,
          46,
          47,
          48,
          49,
          50,
          51,
          52
         ],
         "xaxis": "x",
         "y": [
          1745178.46,
          1627308.42,
          1636623.05,
          1560435.19,
          2876342.56,
          3012349.21,
          3125301.9,
          2693446.8,
          2769035.29,
          2720839.01,
          2659378.5300000003,
          2474730.73,
          2699198.5,
          2912676.34,
          2701185.31,
          2660201.85,
          2513135.66,
          2795510.39,
          2689230.14,
          2568305.11,
          2621138.41,
          2808608.77,
          2740965.27,
          2708889.67,
          2579250,
          2614315.32,
          2643460.39,
          2589043.95,
          2504252.37,
          2432604.8,
          2682870.27,
          2655461,
          2662356.13,
          2737733.25,
          2766561.34,
          2611943.66,
          2591249.05,
          2437965.82,
          2497879.27,
          2776762.43,
          2617247.21,
          2642713.38,
          2599140.5100000002,
          1875081.39,
          1828627.46,
          1782640.23,
          2496857.02,
          1939368.39,
          2120984.58,
          2338743.49,
          2973895.14,
          1632158.71
         ],
         "yaxis": "y"
        },
        {
         "hovertemplate": "Store=9<br>Week=%{x}<br>Total Sales=%{y}<extra></extra>",
         "legendgroup": "9",
         "line": {
          "color": "#BCBD22",
          "dash": "solid"
         },
         "marker": {
          "symbol": "circle"
         },
         "mode": "lines",
         "name": "9",
         "orientation": "v",
         "showlegend": true,
         "type": "scatter",
         "x": [
          1,
          2,
          3,
          4,
          5,
          6,
          7,
          8,
          9,
          10,
          11,
          12,
          13,
          14,
          15,
          16,
          17,
          18,
          19,
          20,
          21,
          22,
          23,
          24,
          25,
          26,
          27,
          28,
          29,
          30,
          31,
          32,
          33,
          34,
          35,
          36,
          37,
          38,
          39,
          40,
          41,
          42,
          43,
          44,
          45,
          46,
          47,
          48,
          49,
          50,
          51,
          52
         ],
         "xaxis": "x",
         "y": [
          1010567.45,
          933051.29,
          934151.73,
          946012.69,
          1644085.72,
          1717692.6199999999,
          1781278.51,
          1550459.26,
          1668812.34,
          1586885.25,
          1551344.29,
          1533226.28,
          1641153.83,
          1768896.22,
          1592724.46,
          1581004.71,
          1574364.61,
          1657668.79,
          1624491.1,
          1596005.77,
          1659203.57,
          1756714.34,
          1655317.42,
          1636351.11,
          1610182.33,
          1610667.27,
          1600162.64,
          1523402.19,
          1468118.01,
          1436076.17,
          1611582.66,
          1540896.24,
          1575298.29,
          1622340.97,
          1632571.54,
          1579432.3499999999,
          1487149.97,
          1493405.88,
          1520620.29,
          1665661.49,
          1542750.14,
          1565407.43,
          1607060.59,
          1115725.04,
          1115420.8,
          1062237.57,
          1582824.03,
          1191280.03,
          1248449.1,
          1390801.17,
          1778672.23,
          1009559.21
         ],
         "yaxis": "y"
        }
       ],
       "layout": {
        "annotations": [
         {
          "align": "left",
          "font": {
           "size": 12
          },
          "showarrow": false,
          "textangle": 0,
          "x": 0,
          "xref": "paper",
          "y": -0.2,
          "yref": "paper"
         }
        ],
        "legend": {
         "title": {
          "text": "Store"
         },
         "tracegroupgap": 0
        },
        "margin": {
         "t": 60
        },
        "template": {
         "data": {
          "bar": [
           {
            "error_x": {
             "color": "rgb(36,36,36)"
            },
            "error_y": {
             "color": "rgb(36,36,36)"
            },
            "marker": {
             "line": {
              "color": "white",
              "width": 0.5
             },
             "pattern": {
              "fillmode": "overlay",
              "size": 10,
              "solidity": 0.2
             }
            },
            "type": "bar"
           }
          ],
          "barpolar": [
           {
            "marker": {
             "line": {
              "color": "white",
              "width": 0.5
             },
             "pattern": {
              "fillmode": "overlay",
              "size": 10,
              "solidity": 0.2
             }
            },
            "type": "barpolar"
           }
          ],
          "carpet": [
           {
            "aaxis": {
             "endlinecolor": "rgb(36,36,36)",
             "gridcolor": "white",
             "linecolor": "white",
             "minorgridcolor": "white",
             "startlinecolor": "rgb(36,36,36)"
            },
            "baxis": {
             "endlinecolor": "rgb(36,36,36)",
             "gridcolor": "white",
             "linecolor": "white",
             "minorgridcolor": "white",
             "startlinecolor": "rgb(36,36,36)"
            },
            "type": "carpet"
           }
          ],
          "choropleth": [
           {
            "colorbar": {
             "outlinewidth": 1,
             "tickcolor": "rgb(36,36,36)",
             "ticks": "outside"
            },
            "type": "choropleth"
           }
          ],
          "contour": [
           {
            "colorbar": {
             "outlinewidth": 1,
             "tickcolor": "rgb(36,36,36)",
             "ticks": "outside"
            },
            "colorscale": [
             [
              0,
              "#440154"
             ],
             [
              0.1111111111111111,
              "#482878"
             ],
             [
              0.2222222222222222,
              "#3e4989"
             ],
             [
              0.3333333333333333,
              "#31688e"
             ],
             [
              0.4444444444444444,
              "#26828e"
             ],
             [
              0.5555555555555556,
              "#1f9e89"
             ],
             [
              0.6666666666666666,
              "#35b779"
             ],
             [
              0.7777777777777778,
              "#6ece58"
             ],
             [
              0.8888888888888888,
              "#b5de2b"
             ],
             [
              1,
              "#fde725"
             ]
            ],
            "type": "contour"
           }
          ],
          "contourcarpet": [
           {
            "colorbar": {
             "outlinewidth": 1,
             "tickcolor": "rgb(36,36,36)",
             "ticks": "outside"
            },
            "type": "contourcarpet"
           }
          ],
          "heatmap": [
           {
            "colorbar": {
             "outlinewidth": 1,
             "tickcolor": "rgb(36,36,36)",
             "ticks": "outside"
            },
            "colorscale": [
             [
              0,
              "#440154"
             ],
             [
              0.1111111111111111,
              "#482878"
             ],
             [
              0.2222222222222222,
              "#3e4989"
             ],
             [
              0.3333333333333333,
              "#31688e"
             ],
             [
              0.4444444444444444,
              "#26828e"
             ],
             [
              0.5555555555555556,
              "#1f9e89"
             ],
             [
              0.6666666666666666,
              "#35b779"
             ],
             [
              0.7777777777777778,
              "#6ece58"
             ],
             [
              0.8888888888888888,
              "#b5de2b"
             ],
             [
              1,
              "#fde725"
             ]
            ],
            "type": "heatmap"
           }
          ],
          "heatmapgl": [
           {
            "colorbar": {
             "outlinewidth": 1,
             "tickcolor": "rgb(36,36,36)",
             "ticks": "outside"
            },
            "colorscale": [
             [
              0,
              "#440154"
             ],
             [
              0.1111111111111111,
              "#482878"
             ],
             [
              0.2222222222222222,
              "#3e4989"
             ],
             [
              0.3333333333333333,
              "#31688e"
             ],
             [
              0.4444444444444444,
              "#26828e"
             ],
             [
              0.5555555555555556,
              "#1f9e89"
             ],
             [
              0.6666666666666666,
              "#35b779"
             ],
             [
              0.7777777777777778,
              "#6ece58"
             ],
             [
              0.8888888888888888,
              "#b5de2b"
             ],
             [
              1,
              "#fde725"
             ]
            ],
            "type": "heatmapgl"
           }
          ],
          "histogram": [
           {
            "marker": {
             "line": {
              "color": "white",
              "width": 0.6
             }
            },
            "type": "histogram"
           }
          ],
          "histogram2d": [
           {
            "colorbar": {
             "outlinewidth": 1,
             "tickcolor": "rgb(36,36,36)",
             "ticks": "outside"
            },
            "colorscale": [
             [
              0,
              "#440154"
             ],
             [
              0.1111111111111111,
              "#482878"
             ],
             [
              0.2222222222222222,
              "#3e4989"
             ],
             [
              0.3333333333333333,
              "#31688e"
             ],
             [
              0.4444444444444444,
              "#26828e"
             ],
             [
              0.5555555555555556,
              "#1f9e89"
             ],
             [
              0.6666666666666666,
              "#35b779"
             ],
             [
              0.7777777777777778,
              "#6ece58"
             ],
             [
              0.8888888888888888,
              "#b5de2b"
             ],
             [
              1,
              "#fde725"
             ]
            ],
            "type": "histogram2d"
           }
          ],
          "histogram2dcontour": [
           {
            "colorbar": {
             "outlinewidth": 1,
             "tickcolor": "rgb(36,36,36)",
             "ticks": "outside"
            },
            "colorscale": [
             [
              0,
              "#440154"
             ],
             [
              0.1111111111111111,
              "#482878"
             ],
             [
              0.2222222222222222,
              "#3e4989"
             ],
             [
              0.3333333333333333,
              "#31688e"
             ],
             [
              0.4444444444444444,
              "#26828e"
             ],
             [
              0.5555555555555556,
              "#1f9e89"
             ],
             [
              0.6666666666666666,
              "#35b779"
             ],
             [
              0.7777777777777778,
              "#6ece58"
             ],
             [
              0.8888888888888888,
              "#b5de2b"
             ],
             [
              1,
              "#fde725"
             ]
            ],
            "type": "histogram2dcontour"
           }
          ],
          "mesh3d": [
           {
            "colorbar": {
             "outlinewidth": 1,
             "tickcolor": "rgb(36,36,36)",
             "ticks": "outside"
            },
            "type": "mesh3d"
           }
          ],
          "parcoords": [
           {
            "line": {
             "colorbar": {
              "outlinewidth": 1,
              "tickcolor": "rgb(36,36,36)",
              "ticks": "outside"
             }
            },
            "type": "parcoords"
           }
          ],
          "pie": [
           {
            "automargin": true,
            "type": "pie"
           }
          ],
          "scatter": [
           {
            "fillpattern": {
             "fillmode": "overlay",
             "size": 10,
             "solidity": 0.2
            },
            "type": "scatter"
           }
          ],
          "scatter3d": [
           {
            "line": {
             "colorbar": {
              "outlinewidth": 1,
              "tickcolor": "rgb(36,36,36)",
              "ticks": "outside"
             }
            },
            "marker": {
             "colorbar": {
              "outlinewidth": 1,
              "tickcolor": "rgb(36,36,36)",
              "ticks": "outside"
             }
            },
            "type": "scatter3d"
           }
          ],
          "scattercarpet": [
           {
            "marker": {
             "colorbar": {
              "outlinewidth": 1,
              "tickcolor": "rgb(36,36,36)",
              "ticks": "outside"
             }
            },
            "type": "scattercarpet"
           }
          ],
          "scattergeo": [
           {
            "marker": {
             "colorbar": {
              "outlinewidth": 1,
              "tickcolor": "rgb(36,36,36)",
              "ticks": "outside"
             }
            },
            "type": "scattergeo"
           }
          ],
          "scattergl": [
           {
            "marker": {
             "colorbar": {
              "outlinewidth": 1,
              "tickcolor": "rgb(36,36,36)",
              "ticks": "outside"
             }
            },
            "type": "scattergl"
           }
          ],
          "scattermapbox": [
           {
            "marker": {
             "colorbar": {
              "outlinewidth": 1,
              "tickcolor": "rgb(36,36,36)",
              "ticks": "outside"
             }
            },
            "type": "scattermapbox"
           }
          ],
          "scatterpolar": [
           {
            "marker": {
             "colorbar": {
              "outlinewidth": 1,
              "tickcolor": "rgb(36,36,36)",
              "ticks": "outside"
             }
            },
            "type": "scatterpolar"
           }
          ],
          "scatterpolargl": [
           {
            "marker": {
             "colorbar": {
              "outlinewidth": 1,
              "tickcolor": "rgb(36,36,36)",
              "ticks": "outside"
             }
            },
            "type": "scatterpolargl"
           }
          ],
          "scatterternary": [
           {
            "marker": {
             "colorbar": {
              "outlinewidth": 1,
              "tickcolor": "rgb(36,36,36)",
              "ticks": "outside"
             }
            },
            "type": "scatterternary"
           }
          ],
          "surface": [
           {
            "colorbar": {
             "outlinewidth": 1,
             "tickcolor": "rgb(36,36,36)",
             "ticks": "outside"
            },
            "colorscale": [
             [
              0,
              "#440154"
             ],
             [
              0.1111111111111111,
              "#482878"
             ],
             [
              0.2222222222222222,
              "#3e4989"
             ],
             [
              0.3333333333333333,
              "#31688e"
             ],
             [
              0.4444444444444444,
              "#26828e"
             ],
             [
              0.5555555555555556,
              "#1f9e89"
             ],
             [
              0.6666666666666666,
              "#35b779"
             ],
             [
              0.7777777777777778,
              "#6ece58"
             ],
             [
              0.8888888888888888,
              "#b5de2b"
             ],
             [
              1,
              "#fde725"
             ]
            ],
            "type": "surface"
           }
          ],
          "table": [
           {
            "cells": {
             "fill": {
              "color": "rgb(237,237,237)"
             },
             "line": {
              "color": "white"
             }
            },
            "header": {
             "fill": {
              "color": "rgb(217,217,217)"
             },
             "line": {
              "color": "white"
             }
            },
            "type": "table"
           }
          ]
         },
         "layout": {
          "font": {
           "family": "Enriqueta",
           "size": 12
          }
         }
        },
        "title": {
         "text": "<b>Total des ventes par semaines</b>",
         "x": 0.075
        },
        "xaxis": {
         "anchor": "y",
         "domain": [
          0,
          1
         ],
         "showline": true,
         "tickmode": "linear",
         "title": {
          "text": "Week"
         }
        },
        "yaxis": {
         "anchor": "x",
         "domain": [
          0,
          1
         ],
         "showline": true,
         "title": {
          "text": "Total Sales"
         }
        }
       }
      }
     },
     "metadata": {},
     "output_type": "display_data"
    }
   ],
   "source": [
    "df_stores_first_10 = df_train[df_train[\"Store\"] < 10].groupby([\"Store\", 'Week'])[\"Weekly_Sales\"].sum().reset_index()\n",
    "\n",
    "template = dict(layout=go.Layout(font=dict(family=\"Enriqueta\", size=12))) # Cabin | Franklin Bold | Enriqueta\n",
    "fig = px.line(data_frame=df_stores_first_10, x=\"Week\", y='Weekly_Sales', color='Store',\n",
    "            template='simple_white', \n",
    "            labels={'Weekly_Sales' : 'Total Sales', 'x' : 'Weeks'})\n",
    "\n",
    "fig.update_layout(\n",
    "    template=template, \n",
    "    title={'text':'<b>Total des ventes par semaines</b>', 'x': 0.075},\n",
    "    xaxis=dict(tickmode='linear', showline=True), \n",
    "    yaxis=dict(showline=True))\n",
    "\n",
    "fig.add_annotation(\n",
    "    x=0, y=-0.2, \n",
    "    align='left', \n",
    "    font=dict(size=12),\n",
    "    textangle=0, \n",
    "    xref=\"paper\", \n",
    "    yref=\"paper\", \n",
    "    showarrow=False\n",
    "    )\n"
   ]
  },
  {
   "cell_type": "markdown",
   "id": "a92b779f",
   "metadata": {},
   "source": [
    "### Repartition du chiffre d'affaires par département"
   ]
  },
  {
   "cell_type": "code",
   "execution_count": 97,
   "id": "09dd1715",
   "metadata": {},
   "outputs": [
    {
     "data": {
      "application/vnd.plotly.v1+json": {
       "config": {
        "plotlyServerURL": "https://plot.ly"
       },
       "data": [
        {
         "alignmentgroup": "True",
         "hovertemplate": "index=%{x}<br>Weekly_Sales=%{marker.color}<extra></extra>",
         "legendgroup": "",
         "marker": {
          "color": [
           19213.485087801088,
           43607.020113442115,
           11793.698515928516,
           25974.63023776224,
           21365.583515046477,
           4747.8561877714665,
           24161.237412587412,
           30191.263516705516,
           20206.681877557447,
           18321.272351204352,
           14505.63823127137,
           4175.39702137619,
           30663.802634032632,
           14870.966037296037,
           14245.63827039627,
           10187.120497504678,
           7336.943539471068,
           1654.8150303471716,
           5528.787319297082,
           4982.850828282828,
           10774.509716759878,
           23931.473983373744,
           6353.604561598224,
           8988.23081838212,
           7649.417947377592,
           1583.4377273536215,
           618.0851159372959,
           5653.655316503391,
           4118.197208467209,
           2339.4402867974286,
           6833.270787441236,
           6471.979578849721,
           15625.91540180248,
           2921.04494619596,
           2022.5710613786591,
           3111.0761932479627,
           61090.61956798757,
           11.12375,
           44900.70272727273,
           1965.5599981457444,
           5189.703416653648,
           1.1933333333333334,
           4651.72965819777,
           23.211585743801653,
           19944.741482517482,
           -7.682554179566564,
           1344.893576349024,
           8159.951296296296,
           2658.8970102432777,
           21.931728837876616,
           1928.356252393108,
           108.3059848961611,
           10716.66464438885,
           3833.706210831063,
           3702.9074191343966,
           694.4635637078283,
           347.37022869022866,
           45441.70622377622,
           7440.680292152292,
           5722.927649274817,
           50566.5154168045,
           13807.462763608086,
           328.9618,
           7.296638297872341,
           21973.04493240093,
           12183.680224070617,
           15470.400825174826,
           15469.631752913752,
           3383.349837508463,
           2264.359407101569,
           13418.882117039588,
           45232.08448795649,
           33687.91075835276,
           75204.87053146854,
           27008.060745814306,
           33405.88396306069,
           69824.42308003108,
           15210.942760609805,
           14255.576919401085,
           6824.694888622344,
           415.4870649651972
          ],
          "coloraxis": "coloraxis",
          "pattern": {
           "shape": ""
          }
         },
         "name": "",
         "offsetgroup": "",
         "orientation": "v",
         "showlegend": false,
         "textposition": "auto",
         "type": "bar",
         "x": [
          0,
          1,
          2,
          3,
          4,
          5,
          6,
          7,
          8,
          9,
          10,
          11,
          12,
          13,
          14,
          15,
          16,
          17,
          18,
          19,
          20,
          21,
          22,
          23,
          24,
          25,
          26,
          27,
          28,
          29,
          30,
          31,
          32,
          33,
          34,
          35,
          36,
          37,
          38,
          39,
          40,
          41,
          42,
          43,
          44,
          45,
          46,
          47,
          48,
          49,
          50,
          51,
          52,
          53,
          54,
          55,
          56,
          57,
          58,
          59,
          60,
          61,
          62,
          63,
          64,
          65,
          66,
          67,
          68,
          69,
          70,
          71,
          72,
          73,
          74,
          75,
          76,
          77,
          78,
          79,
          80
         ],
         "xaxis": "x",
         "y": [
          19213.485087801088,
          43607.020113442115,
          11793.698515928516,
          25974.63023776224,
          21365.583515046477,
          4747.8561877714665,
          24161.237412587412,
          30191.263516705516,
          20206.681877557447,
          18321.272351204352,
          14505.63823127137,
          4175.39702137619,
          30663.802634032632,
          14870.966037296037,
          14245.63827039627,
          10187.120497504678,
          7336.943539471068,
          1654.8150303471716,
          5528.787319297082,
          4982.850828282828,
          10774.509716759878,
          23931.473983373744,
          6353.604561598224,
          8988.23081838212,
          7649.417947377592,
          1583.4377273536215,
          618.0851159372959,
          5653.655316503391,
          4118.197208467209,
          2339.4402867974286,
          6833.270787441236,
          6471.979578849721,
          15625.91540180248,
          2921.04494619596,
          2022.5710613786591,
          3111.0761932479627,
          61090.61956798757,
          11.12375,
          44900.70272727273,
          1965.5599981457444,
          5189.703416653648,
          1.1933333333333334,
          4651.72965819777,
          23.211585743801653,
          19944.741482517482,
          -7.682554179566564,
          1344.893576349024,
          8159.951296296296,
          2658.8970102432777,
          21.931728837876616,
          1928.356252393108,
          108.3059848961611,
          10716.66464438885,
          3833.706210831063,
          3702.9074191343966,
          694.4635637078283,
          347.37022869022866,
          45441.70622377622,
          7440.680292152292,
          5722.927649274817,
          50566.5154168045,
          13807.462763608086,
          328.9618,
          7.296638297872341,
          21973.04493240093,
          12183.680224070617,
          15470.400825174826,
          15469.631752913752,
          3383.349837508463,
          2264.359407101569,
          13418.882117039588,
          45232.08448795649,
          33687.91075835276,
          75204.87053146854,
          27008.060745814306,
          33405.88396306069,
          69824.42308003108,
          15210.942760609805,
          14255.576919401085,
          6824.694888622344,
          415.4870649651972
         ],
         "yaxis": "y"
        }
       ],
       "layout": {
        "annotations": [
         {
          "align": "left",
          "font": {
           "size": 12
          },
          "showarrow": false,
          "textangle": 0,
          "x": 0,
          "xref": "paper",
          "y": -0.2,
          "yref": "paper"
         }
        ],
        "barmode": "relative",
        "coloraxis": {
         "colorbar": {
          "title": {
           "text": "Weekly_Sales"
          }
         },
         "colorscale": [
          [
           0,
           "#0d0887"
          ],
          [
           0.1111111111111111,
           "#46039f"
          ],
          [
           0.2222222222222222,
           "#7201a8"
          ],
          [
           0.3333333333333333,
           "#9c179e"
          ],
          [
           0.4444444444444444,
           "#bd3786"
          ],
          [
           0.5555555555555556,
           "#d8576b"
          ],
          [
           0.6666666666666666,
           "#ed7953"
          ],
          [
           0.7777777777777778,
           "#fb9f3a"
          ],
          [
           0.8888888888888888,
           "#fdca26"
          ],
          [
           1,
           "#f0f921"
          ]
         ]
        },
        "legend": {
         "title": {
          "text": "<b>Sales</b>"
         },
         "tracegroupgap": 0
        },
        "margin": {
         "t": 60
        },
        "template": {
         "data": {
          "bar": [
           {
            "error_x": {
             "color": "#2a3f5f"
            },
            "error_y": {
             "color": "#2a3f5f"
            },
            "marker": {
             "line": {
              "color": "#E5ECF6",
              "width": 0.5
             },
             "pattern": {
              "fillmode": "overlay",
              "size": 10,
              "solidity": 0.2
             }
            },
            "type": "bar"
           }
          ],
          "barpolar": [
           {
            "marker": {
             "line": {
              "color": "#E5ECF6",
              "width": 0.5
             },
             "pattern": {
              "fillmode": "overlay",
              "size": 10,
              "solidity": 0.2
             }
            },
            "type": "barpolar"
           }
          ],
          "carpet": [
           {
            "aaxis": {
             "endlinecolor": "#2a3f5f",
             "gridcolor": "white",
             "linecolor": "white",
             "minorgridcolor": "white",
             "startlinecolor": "#2a3f5f"
            },
            "baxis": {
             "endlinecolor": "#2a3f5f",
             "gridcolor": "white",
             "linecolor": "white",
             "minorgridcolor": "white",
             "startlinecolor": "#2a3f5f"
            },
            "type": "carpet"
           }
          ],
          "choropleth": [
           {
            "colorbar": {
             "outlinewidth": 0,
             "ticks": ""
            },
            "type": "choropleth"
           }
          ],
          "contour": [
           {
            "colorbar": {
             "outlinewidth": 0,
             "ticks": ""
            },
            "colorscale": [
             [
              0,
              "#0d0887"
             ],
             [
              0.1111111111111111,
              "#46039f"
             ],
             [
              0.2222222222222222,
              "#7201a8"
             ],
             [
              0.3333333333333333,
              "#9c179e"
             ],
             [
              0.4444444444444444,
              "#bd3786"
             ],
             [
              0.5555555555555556,
              "#d8576b"
             ],
             [
              0.6666666666666666,
              "#ed7953"
             ],
             [
              0.7777777777777778,
              "#fb9f3a"
             ],
             [
              0.8888888888888888,
              "#fdca26"
             ],
             [
              1,
              "#f0f921"
             ]
            ],
            "type": "contour"
           }
          ],
          "contourcarpet": [
           {
            "colorbar": {
             "outlinewidth": 0,
             "ticks": ""
            },
            "type": "contourcarpet"
           }
          ],
          "heatmap": [
           {
            "colorbar": {
             "outlinewidth": 0,
             "ticks": ""
            },
            "colorscale": [
             [
              0,
              "#0d0887"
             ],
             [
              0.1111111111111111,
              "#46039f"
             ],
             [
              0.2222222222222222,
              "#7201a8"
             ],
             [
              0.3333333333333333,
              "#9c179e"
             ],
             [
              0.4444444444444444,
              "#bd3786"
             ],
             [
              0.5555555555555556,
              "#d8576b"
             ],
             [
              0.6666666666666666,
              "#ed7953"
             ],
             [
              0.7777777777777778,
              "#fb9f3a"
             ],
             [
              0.8888888888888888,
              "#fdca26"
             ],
             [
              1,
              "#f0f921"
             ]
            ],
            "type": "heatmap"
           }
          ],
          "heatmapgl": [
           {
            "colorbar": {
             "outlinewidth": 0,
             "ticks": ""
            },
            "colorscale": [
             [
              0,
              "#0d0887"
             ],
             [
              0.1111111111111111,
              "#46039f"
             ],
             [
              0.2222222222222222,
              "#7201a8"
             ],
             [
              0.3333333333333333,
              "#9c179e"
             ],
             [
              0.4444444444444444,
              "#bd3786"
             ],
             [
              0.5555555555555556,
              "#d8576b"
             ],
             [
              0.6666666666666666,
              "#ed7953"
             ],
             [
              0.7777777777777778,
              "#fb9f3a"
             ],
             [
              0.8888888888888888,
              "#fdca26"
             ],
             [
              1,
              "#f0f921"
             ]
            ],
            "type": "heatmapgl"
           }
          ],
          "histogram": [
           {
            "marker": {
             "pattern": {
              "fillmode": "overlay",
              "size": 10,
              "solidity": 0.2
             }
            },
            "type": "histogram"
           }
          ],
          "histogram2d": [
           {
            "colorbar": {
             "outlinewidth": 0,
             "ticks": ""
            },
            "colorscale": [
             [
              0,
              "#0d0887"
             ],
             [
              0.1111111111111111,
              "#46039f"
             ],
             [
              0.2222222222222222,
              "#7201a8"
             ],
             [
              0.3333333333333333,
              "#9c179e"
             ],
             [
              0.4444444444444444,
              "#bd3786"
             ],
             [
              0.5555555555555556,
              "#d8576b"
             ],
             [
              0.6666666666666666,
              "#ed7953"
             ],
             [
              0.7777777777777778,
              "#fb9f3a"
             ],
             [
              0.8888888888888888,
              "#fdca26"
             ],
             [
              1,
              "#f0f921"
             ]
            ],
            "type": "histogram2d"
           }
          ],
          "histogram2dcontour": [
           {
            "colorbar": {
             "outlinewidth": 0,
             "ticks": ""
            },
            "colorscale": [
             [
              0,
              "#0d0887"
             ],
             [
              0.1111111111111111,
              "#46039f"
             ],
             [
              0.2222222222222222,
              "#7201a8"
             ],
             [
              0.3333333333333333,
              "#9c179e"
             ],
             [
              0.4444444444444444,
              "#bd3786"
             ],
             [
              0.5555555555555556,
              "#d8576b"
             ],
             [
              0.6666666666666666,
              "#ed7953"
             ],
             [
              0.7777777777777778,
              "#fb9f3a"
             ],
             [
              0.8888888888888888,
              "#fdca26"
             ],
             [
              1,
              "#f0f921"
             ]
            ],
            "type": "histogram2dcontour"
           }
          ],
          "mesh3d": [
           {
            "colorbar": {
             "outlinewidth": 0,
             "ticks": ""
            },
            "type": "mesh3d"
           }
          ],
          "parcoords": [
           {
            "line": {
             "colorbar": {
              "outlinewidth": 0,
              "ticks": ""
             }
            },
            "type": "parcoords"
           }
          ],
          "pie": [
           {
            "automargin": true,
            "type": "pie"
           }
          ],
          "scatter": [
           {
            "fillpattern": {
             "fillmode": "overlay",
             "size": 10,
             "solidity": 0.2
            },
            "type": "scatter"
           }
          ],
          "scatter3d": [
           {
            "line": {
             "colorbar": {
              "outlinewidth": 0,
              "ticks": ""
             }
            },
            "marker": {
             "colorbar": {
              "outlinewidth": 0,
              "ticks": ""
             }
            },
            "type": "scatter3d"
           }
          ],
          "scattercarpet": [
           {
            "marker": {
             "colorbar": {
              "outlinewidth": 0,
              "ticks": ""
             }
            },
            "type": "scattercarpet"
           }
          ],
          "scattergeo": [
           {
            "marker": {
             "colorbar": {
              "outlinewidth": 0,
              "ticks": ""
             }
            },
            "type": "scattergeo"
           }
          ],
          "scattergl": [
           {
            "marker": {
             "colorbar": {
              "outlinewidth": 0,
              "ticks": ""
             }
            },
            "type": "scattergl"
           }
          ],
          "scattermapbox": [
           {
            "marker": {
             "colorbar": {
              "outlinewidth": 0,
              "ticks": ""
             }
            },
            "type": "scattermapbox"
           }
          ],
          "scatterpolar": [
           {
            "marker": {
             "colorbar": {
              "outlinewidth": 0,
              "ticks": ""
             }
            },
            "type": "scatterpolar"
           }
          ],
          "scatterpolargl": [
           {
            "marker": {
             "colorbar": {
              "outlinewidth": 0,
              "ticks": ""
             }
            },
            "type": "scatterpolargl"
           }
          ],
          "scatterternary": [
           {
            "marker": {
             "colorbar": {
              "outlinewidth": 0,
              "ticks": ""
             }
            },
            "type": "scatterternary"
           }
          ],
          "surface": [
           {
            "colorbar": {
             "outlinewidth": 0,
             "ticks": ""
            },
            "colorscale": [
             [
              0,
              "#0d0887"
             ],
             [
              0.1111111111111111,
              "#46039f"
             ],
             [
              0.2222222222222222,
              "#7201a8"
             ],
             [
              0.3333333333333333,
              "#9c179e"
             ],
             [
              0.4444444444444444,
              "#bd3786"
             ],
             [
              0.5555555555555556,
              "#d8576b"
             ],
             [
              0.6666666666666666,
              "#ed7953"
             ],
             [
              0.7777777777777778,
              "#fb9f3a"
             ],
             [
              0.8888888888888888,
              "#fdca26"
             ],
             [
              1,
              "#f0f921"
             ]
            ],
            "type": "surface"
           }
          ],
          "table": [
           {
            "cells": {
             "fill": {
              "color": "#EBF0F8"
             },
             "line": {
              "color": "white"
             }
            },
            "header": {
             "fill": {
              "color": "#C8D4E3"
             },
             "line": {
              "color": "white"
             }
            },
            "type": "table"
           }
          ]
         },
         "layout": {
          "font": {
           "family": "Enriqueta",
           "size": 12
          }
         }
        },
        "title": {
         "text": "<b>Moyenne des vents par départment</b>",
         "x": 0.075
        },
        "xaxis": {
         "anchor": "y",
         "domain": [
          0,
          1
         ],
         "title": {
          "text": "index"
         }
        },
        "yaxis": {
         "anchor": "x",
         "domain": [
          0,
          1
         ],
         "showline": true,
         "title": {
          "text": "Weekly_Sales"
         }
        }
       }
      }
     },
     "metadata": {},
     "output_type": "display_data"
    }
   ],
   "source": [
    "df_depts = df_train.groupby('Dept')[\"Weekly_Sales\"].mean().reset_index()\n",
    "\n",
    "fig = px.bar(df_depts, x=df_depts.index, y=df_depts.Weekly_Sales, color=df_depts.Weekly_Sales)\n",
    "             # color_continuous_scale=palletes['continuos']['green_n_blues'])\n",
    "\n",
    "fig.update_layout(\n",
    "    template=template, \n",
    "    title={'text':'<b>Moyenne des vents par départment</b>', 'x': 0.075},\n",
    "    legend_title_text='<b>Sales</b>',\n",
    "    yaxis=dict(showline=True))\n",
    "\n",
    "fig.add_annotation(\n",
    "    x=0, y=-0.20, \n",
    "    align='left', \n",
    "    font=dict(size=12),\n",
    "    textangle=0, \n",
    "    xref=\"paper\", \n",
    "    yref=\"paper\", \n",
    "    showarrow=False\n",
    ")"
   ]
  }
 ],
 "metadata": {
  "kernelspec": {
   "display_name": "data-science-jca-H-ZC9sL8-py3.10",
   "language": "python",
   "name": "python3"
  },
  "language_info": {
   "codemirror_mode": {
    "name": "ipython",
    "version": 3
   },
   "file_extension": ".py",
   "mimetype": "text/x-python",
   "name": "python",
   "nbconvert_exporter": "python",
   "pygments_lexer": "ipython3",
   "version": "3.11.7"
  }
 },
 "nbformat": 4,
 "nbformat_minor": 5
}
